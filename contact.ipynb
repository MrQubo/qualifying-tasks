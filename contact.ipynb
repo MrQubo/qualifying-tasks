{
 "cells": [
  {
   "cell_type": "markdown",
   "metadata": {},
   "source": [
    "# Contact\n",
    "\n",
    "<span style='font-size:1.4em'>Telegram</span> &nbsp;\n",
    "[@mrqubo](https://t.me/mrqubo)\n",
    "\n",
    "<span style='font-size:1.4em'>Discord</span> &nbsp;\n",
    "MrQubo#2852\n",
    "\n",
    "<span style='font-size:1.4em'>Email</span> &nbsp;\n",
    "[j.nowak26+www2020@student.uw.edu.pl](mailto:j.nowak26+www2020@student.uw.edu.pl)"
   ]
  }
 ],
 "metadata": {
  "kernelspec": {
   "display_name": "Python 3",
   "language": "python",
   "name": "python3"
  },
  "language_info": {
   "codemirror_mode": {
    "name": "ipython",
    "version": 3
   },
   "file_extension": ".py",
   "mimetype": "text/x-python",
   "name": "python",
   "nbconvert_exporter": "python",
   "pygments_lexer": "ipython3",
   "version": "3.8.3"
  }
 },
 "nbformat": 4,
 "nbformat_minor": 4
}
