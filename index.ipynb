{
 "cells": [
  {
   "cell_type": "markdown",
   "metadata": {},
   "source": [
    "<div style=\"background-color:rgb(17,17,17);padding:10px\"><img src=https://warsztatywww.pl/static/images/logo_transparent.svg></img></div>"
   ]
  },
  {
   "cell_type": "markdown",
   "metadata": {},
   "source": [
    "# Zadania Miały-Być-Ale-Nie-Są-Kwalifikacyjne na Warsztaty „Programowanie kwantowe”"
   ]
  },
  {
   "cell_type": "markdown",
   "metadata": {},
   "source": [
    "Uwaga! Poza tę stroną tytułową wszystkie dalsze materiały i zadania są po angielsku."
   ]
  },
  {
   "cell_type": "markdown",
   "metadata": {},
   "source": [
    "## Przydatne rzeczy\n",
    "\n",
    "(Trzeba kliknąć link lewym przyciskiem myszy. Jak się kliknie środkowym przyciskiem myszy to przeglądarka spróbuje go pobrać.)\n",
    "\n",
    "- [Tutorial do JupyterLab](references/jupyter.ipynb) (Warto przeczytać jeśli korzysta się pierwszy raz z JupyterLab)\n",
    "- [Pythonowa Ściągawka](https://www.pythoncheatsheet.org)"
   ]
  },
  {
   "cell_type": "markdown",
   "metadata": {},
   "source": [
    "## Pre-Zadanka\n",
    "\n",
    "- [Walidacja czy wszystko działa](validate.ipynb)"
   ]
  },
  {
   "cell_type": "markdown",
   "metadata": {},
   "source": [
    "## Zadanka (max <b>100</b> pkt.)\n",
    "\n",
    "- [Python](tasks/python.ipynb) (max <b>60</b> pkt.)\n",
    "- [Macierze](tasks/math.ipynb) (max <b>40</b> pkt.)"
   ]
  },
  {
   "cell_type": "markdown",
   "metadata": {},
   "source": [
    "### [Kontakt](contact.ipynb)"
   ]
  }
 ],
 "metadata": {
  "kernelspec": {
   "display_name": "Python 3",
   "language": "python",
   "name": "python3"
  },
  "language_info": {
   "codemirror_mode": {
    "name": "ipython",
    "version": 3
   },
   "file_extension": ".py",
   "mimetype": "text/x-python",
   "name": "python",
   "nbconvert_exporter": "python",
   "pygments_lexer": "ipython3",
   "version": "3.8.3"
  }
 },
 "nbformat": 4,
 "nbformat_minor": 4
}
