{
 "cells": [
  {
   "cell_type": "markdown",
   "metadata": {},
   "source": [
    "$ $\n",
    "# Tasks – Python"
   ]
  },
  {
   "cell_type": "markdown",
   "metadata": {},
   "source": [
    "Following tasks resolve around the topic of probability.\\\n",
    "Undestanding of probability is important when dealing with quantum mechanics."
   ]
  },
  {
   "cell_type": "markdown",
   "metadata": {},
   "source": [
    "The main objective of those tasks is to check if you can use python with ease.\n",
    "\n",
    "You're objective is to go through this notebook and complete the implementation of given tasks.\\\n",
    "Every place you need to fill up is marked with `$$$$$`.\\\n",
    "Of course you don't need to type code only in the marked places, you can always use any kind of helper code/functions.\n",
    "\n",
    "You can run all cells and look for `SyntaxError` or `AssertionError` to check if you didn't miss something. (\"Run\" > \"Restart Kernel and Run All Cells...\")\\\n",
    "On the bottom of this notebook is a code cell which you can use to grade the solutions which could be automatically checked. You can expand collapsed cells to see the automatic tests."
   ]
  },
  {
   "cell_type": "markdown",
   "metadata": {},
   "source": [
    "---"
   ]
  },
  {
   "cell_type": "markdown",
   "metadata": {},
   "source": [
    "### <span style=\"color:turquoise\">Task -1</span> (max 0 p.)"
   ]
  },
  {
   "cell_type": "markdown",
   "metadata": {},
   "source": [
    "Execute this cell. :P"
   ]
  },
  {
   "cell_type": "code",
   "execution_count": null,
   "metadata": {},
   "outputs": [],
   "source": [
    "manual_grade_points = dict()\n",
    "auto_grade_points = dict()"
   ]
  },
  {
   "cell_type": "markdown",
   "metadata": {},
   "source": [
    "---"
   ]
  },
  {
   "cell_type": "markdown",
   "metadata": {},
   "source": [
    "### <span id=\"Task-0\" style=\"color:turquoise\">Task 0</span> (max 20 p.)"
   ]
  },
  {
   "cell_type": "code",
   "execution_count": null,
   "metadata": {},
   "outputs": [],
   "source": [
    "from random import randrange\n",
    "\n",
    "\n",
    "def pick_attempts() -> int:\n",
    "    'Randomly pick a number between 0 and 9 (inclusive) until hitting 3 and return the number of attempts.'\n",
    "    $$$$$\n",
    "    \n",
    "    \n",
    "assert isinstance(pick_attempts(), int)"
   ]
  },
  {
   "cell_type": "code",
   "execution_count": null,
   "metadata": {
    "jupyter": {
     "source_hidden": true
    }
   },
   "outputs": [],
   "source": [
    "manual_grade_points['pick.attempts'] = 0, 4"
   ]
  },
  {
   "cell_type": "markdown",
   "metadata": {},
   "source": [
    "You can easily say what is the expected number of attempts before hitting 3. But let's try to calculate this value via a series of experiments.\n",
    "\n",
    "Experiment 1: Execute `pick_attempts()` **20** times and calculate the average number of attempts.\\\n",
    "Experiment 2: Execute `pick_attempts()` **200** times and calculate the average number of attempts.\\\n",
    "Experiment 3: Execute `pick_attempts()` **2000** times and calculate the average number of attempts.\\\n",
    "Experiment 4: Execute `pick_attempts()` **20000** times and calculate the average number of attempts.\\\n",
    "Experiment 5: Execute `pick_attempts()` **200000** times and calculate the average number of attempts."
   ]
  },
  {
   "cell_type": "code",
   "execution_count": null,
   "metadata": {},
   "outputs": [],
   "source": [
    "$$$$$\n",
    "\n",
    "\n",
    "print('Experiment 1:', $$$$$)\n",
    "print('Experiment 2:', $$$$$)\n",
    "print('Experiment 3:', $$$$$)\n",
    "print('Experiment 4:', $$$$$)\n",
    "print('Experiment 5:', $$$$$)"
   ]
  },
  {
   "cell_type": "code",
   "execution_count": null,
   "metadata": {
    "jupyter": {
     "source_hidden": true
    }
   },
   "outputs": [],
   "source": [
    "manual_grade_points['pick.experiment'] = 0, 16"
   ]
  },
  {
   "cell_type": "markdown",
   "metadata": {},
   "source": [
    "What we done here is that we _estimated_ the expected number of attempts using [Monte Carlo algorithm](https://simple.wikipedia.org/wiki/Monte_Carlo_algorithm).\\\n",
    "The important part is that we only _estimated_ the expected value. But as you can see with more `pick_attempts()` repetitions this estimation becomes very close to the actual value."
   ]
  },
  {
   "cell_type": "markdown",
   "metadata": {},
   "source": [
    "---"
   ]
  },
  {
   "cell_type": "markdown",
   "metadata": {},
   "source": [
    "### <span style=\"color:turquoise\">Task 1</span> (max 40 p.)"
   ]
  },
  {
   "cell_type": "code",
   "execution_count": null,
   "metadata": {},
   "outputs": [],
   "source": [
    "import itertools\n",
    "\n",
    "\n",
    "def combos(items, n: int) -> set[tuple]:\n",
    "    '''All combinations of n items. Each combination as a tuple.\n",
    "        ===\n",
    "        items: any iterable\n",
    "    '''\n",
    "    $$$$$\n",
    "\n",
    "    \n",
    "assert combos('xyz', 2) == {('x', 'y'), ('x', 'z'), ('y', 'z')}\n",
    "assert combos([1, 2, 3, 4], 3) == {(1, 2, 3), (1, 2, 4), (1, 3, 4), (2, 3, 4)}"
   ]
  },
  {
   "cell_type": "code",
   "execution_count": null,
   "metadata": {
    "jupyter": {
     "source_hidden": true
    }
   },
   "outputs": [],
   "source": [
    "auto_grade_points['combos.combos'] = 0, 8\n",
    "\n",
    "try:\n",
    "    for n in [10, 100, 1000]:\n",
    "        for k in [5, 10, 50, 100, 500, 1000]:\n",
    "            assert (len(combos))\n",
    "    auto_grade_points['combos.combos'] = 5, 8\n",
    "    assert combos('xyz', 2) == {('x', 'y'), ('x', 'z'), ('y', 'z')}\n",
    "    assert combos([1, 2, 3, 4], 3) == {(1, 2, 3), (1, 2, 4), (1, 3, 4), (2, 3, 4)}\n",
    "    auto_grade_points['combos.combos'] = 8, 8\n",
    "except AssertionError:\n",
    "    pass"
   ]
  },
  {
   "cell_type": "code",
   "execution_count": null,
   "metadata": {},
   "outputs": [],
   "source": [
    "import math\n",
    "\n",
    "N = 1337\n",
    "M = 42\n",
    "pairs = combos(range(N), 2)\n",
    "\n",
    "assert len(pairs) == math.comb(N, 2)"
   ]
  },
  {
   "cell_type": "markdown",
   "metadata": {},
   "source": [
    "We want to work out the probability of picking a pair `(x, y)` such that the absolute difference between `x` and `y` doesn't exceed `M`, assuming that we pick pairs from `pairs` set with the same probability each.\\\n",
    "This isn't so easy to work out mathematically as in a previous task, is it?\n",
    "\n",
    "Do similar experiments as in [Task 0](#Task-0) to estimate this probability."
   ]
  },
  {
   "cell_type": "code",
   "execution_count": null,
   "metadata": {},
   "outputs": [],
   "source": [
    "import random\n",
    "\n",
    "def pick_combo(n: int) -> tuple:\n",
    "    return random.sample(pairs, n)\n",
    "\n",
    "\n",
    "$$$$$"
   ]
  },
  {
   "cell_type": "code",
   "execution_count": null,
   "metadata": {
    "jupyter": {
     "source_hidden": true
    }
   },
   "outputs": [],
   "source": [
    "manual_grade_points['combos.experiment'] = 0, 32"
   ]
  },
  {
   "cell_type": "markdown",
   "metadata": {},
   "source": [
    "---"
   ]
  },
  {
   "cell_type": "markdown",
   "metadata": {},
   "source": [
    "## Grading"
   ]
  },
  {
   "cell_type": "code",
   "execution_count": null,
   "metadata": {},
   "outputs": [],
   "source": [
    "import numpy as np\n",
    "\n",
    "assert manual_grade_points.keys() & auto_grade_points.keys() == set()\n",
    "grade_points = dict(**manual_grade_points, **auto_grade_points)\n",
    "final_grade_points = np.sum(list(grade_points.values()), axis=0)\n",
    "\n",
    "for name, (points, points_max) in grade_points.items():\n",
    "    print(f'{name}:', f'{points}/{points_max}')\n",
    "    \n",
    "points, points_max = final_grade_points\n",
    "assert points_max == 60\n",
    "print(f'Final Number of Points:', f'{points}/{points_max}')"
   ]
  }
 ],
 "metadata": {
  "kernelspec": {
   "display_name": "Python 3",
   "language": "python",
   "name": "python3"
  },
  "language_info": {
   "codemirror_mode": {
    "name": "ipython",
    "version": 3
   },
   "file_extension": ".py",
   "mimetype": "text/x-python",
   "name": "python",
   "nbconvert_exporter": "python",
   "pygments_lexer": "ipython3",
   "version": "3.8.3"
  }
 },
 "nbformat": 4,
 "nbformat_minor": 4
}
