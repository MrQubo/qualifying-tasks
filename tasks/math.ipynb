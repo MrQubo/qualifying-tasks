{
 "cells": [
  {
   "cell_type": "markdown",
   "metadata": {},
   "source": [
    "$\n",
    "\\newcommand{\\bmatrix}[1]{\\begin{bmatrix}#1\\end{bmatrix}}\n",
    "\\newcommand{\\transpose}{^{\\mkern-1.5mu\\mathsf{T}}}\n",
    "\\newcommand{\\ket}[1]{\\mathinner{|{#1}\\rangle}}\n",
    "\\newcommand{\\M}{\\mathsf{M}}\n",
    "\\newcommand{\\A}{\\mathsf{A}}\n",
    "\\newcommand{\\B}{\\mathsf{B}}\n",
    "\\newcommand{\\C}{\\mathsf{C}}\n",
    "$\n",
    "\n",
    "# Tasks – Math"
   ]
  },
  {
   "cell_type": "markdown",
   "metadata": {},
   "source": [
    "We start by defining that we consider only real numbers unless specified otherwise."
   ]
  },
  {
   "cell_type": "markdown",
   "metadata": {},
   "source": [
    "---"
   ]
  },
  {
   "cell_type": "markdown",
   "metadata": {},
   "source": [
    "## Matrices\n",
    "\n",
    "We represent **matrices** in python using 2-dimensional numpy arrays. We don't use `np.matrix`, it's deprecated."
   ]
  },
  {
   "cell_type": "code",
   "execution_count": null,
   "metadata": {},
   "outputs": [],
   "source": [
    "import numpy as np"
   ]
  },
  {
   "cell_type": "markdown",
   "metadata": {},
   "source": [
    "---"
   ]
  },
  {
   "cell_type": "markdown",
   "metadata": {},
   "source": [
    "$ \\M = \\bmatrix{1 & 1 \\\\ 1 & -1} $"
   ]
  },
  {
   "cell_type": "code",
   "execution_count": null,
   "metadata": {},
   "outputs": [],
   "source": [
    "M = np.array([\n",
    "    [1, 1],\n",
    "    [1, -1],\n",
    "])\n",
    "print(M)"
   ]
  },
  {
   "cell_type": "markdown",
   "metadata": {},
   "source": [
    "---"
   ]
  },
  {
   "cell_type": "markdown",
   "metadata": {},
   "source": [
    "We can use `+` operator to sum matrices and `@` to multiply matrices.\\\n",
    "Be aware that `*` is used for element-wise multiplication and `**` – element-wise exponentation."
   ]
  },
  {
   "cell_type": "markdown",
   "metadata": {},
   "source": [
    "---"
   ]
  },
  {
   "cell_type": "markdown",
   "metadata": {},
   "source": [
    "$ \\M + \\M $"
   ]
  },
  {
   "cell_type": "code",
   "execution_count": null,
   "metadata": {},
   "outputs": [],
   "source": [
    "print(M + M)"
   ]
  },
  {
   "cell_type": "markdown",
   "metadata": {},
   "source": [
    "---"
   ]
  },
  {
   "cell_type": "markdown",
   "metadata": {},
   "source": [
    "$ \\M \\M $"
   ]
  },
  {
   "cell_type": "code",
   "execution_count": null,
   "metadata": {},
   "outputs": [],
   "source": [
    "print(M @ M)"
   ]
  },
  {
   "cell_type": "markdown",
   "metadata": {},
   "source": [
    "---"
   ]
  },
  {
   "cell_type": "markdown",
   "metadata": {},
   "source": [
    "$ \\M^2 $"
   ]
  },
  {
   "cell_type": "code",
   "execution_count": null,
   "metadata": {},
   "outputs": [],
   "source": [
    "print(np.linalg.matrix_power(M, 2))"
   ]
  },
  {
   "cell_type": "markdown",
   "metadata": {},
   "source": [
    "---"
   ]
  },
  {
   "cell_type": "markdown",
   "metadata": {},
   "source": [
    "$ 3 \\M $"
   ]
  },
  {
   "cell_type": "code",
   "execution_count": null,
   "metadata": {},
   "outputs": [],
   "source": [
    "print(3 * M)"
   ]
  },
  {
   "cell_type": "markdown",
   "metadata": {},
   "source": [
    "---"
   ]
  },
  {
   "cell_type": "markdown",
   "metadata": {},
   "source": [
    "Mathematically, we will be denoting the set of matrices of size $m \\times{} n$ ($m$ rows and $n$ columns) with $\\mathcal{M}_{m\\times{}n}$."
   ]
  },
  {
   "cell_type": "markdown",
   "metadata": {},
   "source": [
    "---"
   ]
  },
  {
   "cell_type": "markdown",
   "metadata": {},
   "source": [
    "## Vectors\n",
    "\n",
    "We represent **vectors** as single-solumn matrices."
   ]
  },
  {
   "cell_type": "markdown",
   "metadata": {},
   "source": [
    "---"
   ]
  },
  {
   "cell_type": "markdown",
   "metadata": {},
   "source": [
    "$ v = \\bmatrix{0 \\\\ 1} $"
   ]
  },
  {
   "cell_type": "code",
   "execution_count": null,
   "metadata": {},
   "outputs": [],
   "source": [
    "v = np.array([\n",
    "    [0],\n",
    "    [1],\n",
    "])\n",
    "print(v)"
   ]
  },
  {
   "cell_type": "markdown",
   "metadata": {},
   "source": [
    "---"
   ]
  },
  {
   "cell_type": "markdown",
   "metadata": {},
   "source": [
    "Typing vectors in python as in the example above is rather uncomfortable, it's simpler to do it like this:"
   ]
  },
  {
   "cell_type": "markdown",
   "metadata": {},
   "source": [
    "---"
   ]
  },
  {
   "cell_type": "markdown",
   "metadata": {},
   "source": [
    "$ v = \\bmatrix{0 & 1}^{\\transpose} $"
   ]
  },
  {
   "cell_type": "code",
   "execution_count": null,
   "metadata": {},
   "outputs": [],
   "source": [
    "v = np.array([[0, 1]]).T\n",
    "print(v)"
   ]
  },
  {
   "cell_type": "markdown",
   "metadata": {},
   "source": [
    "$\\mathsf{T}$ symbol denotes [**transposition**](https://en.wikipedia.org/wiki/Transpose)."
   ]
  },
  {
   "cell_type": "markdown",
   "metadata": {},
   "source": [
    "---"
   ]
  },
  {
   "cell_type": "markdown",
   "metadata": {},
   "source": [
    "### Vector Norm"
   ]
  },
  {
   "cell_type": "markdown",
   "metadata": {},
   "source": [
    "Given vector $v$:"
   ]
  },
  {
   "cell_type": "markdown",
   "metadata": {},
   "source": [
    "$ v = \\bmatrix{a_1 \\\\ \\vdots \\\\ a_n} $"
   ]
  },
  {
   "cell_type": "markdown",
   "metadata": {},
   "source": [
    "We define it's **norm**, denoted by $\\left\\lVert v \\right\\rVert$, as following:"
   ]
  },
  {
   "cell_type": "markdown",
   "metadata": {},
   "source": [
    "$\\left\\lVert v \\right\\rVert = \\sqrt{a_1^2 + \\cdots + a_n^2}$"
   ]
  },
  {
   "cell_type": "markdown",
   "metadata": {},
   "source": [
    "or equivalently:"
   ]
  },
  {
   "cell_type": "markdown",
   "metadata": {},
   "source": [
    "$\\left\\lVert v \\right\\rVert >= 0$\\\n",
    "$\\left\\lVert v \\right\\rVert^2 = a_1^2 + \\cdots + a_n^2$"
   ]
  },
  {
   "cell_type": "markdown",
   "metadata": {},
   "source": [
    "We can calculate the norm of a vector in python with `np.linalg.norm()`."
   ]
  },
  {
   "cell_type": "markdown",
   "metadata": {},
   "source": [
    "---"
   ]
  },
  {
   "cell_type": "markdown",
   "metadata": {},
   "source": [
    "## Kronecker Product"
   ]
  },
  {
   "cell_type": "markdown",
   "metadata": {},
   "source": [
    "Given two matrices $\\A \\in \\mathcal{M}_{m\\times{}n}$, $\\B \\in \\mathcal{M}_{p\\times{}q}$, we define their **Kronecker product**, denoted by $\\A \\otimes{} \\B$, as following:"
   ]
  },
  {
   "cell_type": "markdown",
   "metadata": {},
   "source": [
    "$\\A \\otimes{} \\B = \\bmatrix{   \\A_{1,1} \\B_{1,1} & \\A_{1,1} \\B_{1,2} & \\cdots & \\A_{1,1} \\B_{1,q} &\n",
    "                   \\cdots & \\cdots & \\A_{1,n} \\B_{1,1} & \\A_{1,n} \\B_{1,2} & \\cdots & \\A_{1,n} \\B_{1,q} \\\\\n",
    "   \\A_{1,1} \\B_{2,1} & \\A_{1,1} \\B_{2,2} & \\cdots & \\A_{1,1} \\B_{2,q} &\n",
    "                   \\cdots & \\cdots & \\A_{1,n} \\B_{2,1} & \\A_{1,n} \\B_{2,2} & \\cdots & \\A_{1,n} \\B_{2,q} \\\\\n",
    "   \\vdots & \\vdots & \\ddots & \\vdots & & & \\vdots & \\vdots & \\ddots & \\vdots \\\\\n",
    "   \\A_{1,1} \\B_{p,1} & \\A_{1,1} \\B_{p,2} & \\cdots & \\A_{1,1} \\B_{p,q} &\n",
    "                   \\cdots & \\cdots & \\A_{1,n} \\B_{p,1} & \\A_{1,n} \\B_{p,2} & \\cdots & \\A_{1,n} \\B_{p,q} \\\\\n",
    "   \\vdots & \\vdots & & \\vdots & \\ddots & & \\vdots & \\vdots & & \\vdots \\\\\n",
    "   \\vdots & \\vdots & & \\vdots & & \\ddots & \\vdots & \\vdots & & \\vdots \\\\\n",
    "   \\A_{m,1} \\B_{1,1} & \\A_{m,1} \\B_{1,2} & \\cdots & \\A_{m,1} \\B_{1,q} &\n",
    "                   \\cdots & \\cdots & \\A_{m,n} \\B_{1,1} & \\A_{m,n} \\B_{1,2} & \\cdots & \\A_{m,n} \\B_{1,q} \\\\\n",
    "   \\A_{m,1} \\B_{2,1} & \\A_{m,1} \\B_{2,2} & \\cdots & \\A_{m,1} \\B_{2,q} &\n",
    "                   \\cdots & \\cdots & \\A_{m,n} \\B_{2,1} & \\A_{m,n} \\B_{2,2} & \\cdots & \\A_{m,n} \\B_{2,q} \\\\\n",
    "   \\vdots & \\vdots & \\ddots & \\vdots & & & \\vdots & \\vdots & \\ddots & \\vdots \\\\\n",
    "   \\A_{m,1} \\B_{p,1} & \\A_{m,1} \\B_{p,2} & \\cdots & \\A_{m,1} \\B_{p,q} &\n",
    "                   \\cdots & \\cdots & \\A_{m,n} \\B_{p,1} & \\A_{m,n} \\B_{p,2} & \\cdots & \\A_{m,n} \\B_{p,q}}$"
   ]
  },
  {
   "cell_type": "markdown",
   "metadata": {},
   "source": [
    "or equivalently:"
   ]
  },
  {
   "cell_type": "markdown",
   "metadata": {},
   "source": [
    "$\\left( \\A \\otimes \\B \\right)_{i,j} = A_{\\left\\lfloor \\left( i-1 \\right) / p \\right\\rfloor +1,\\left\\lfloor \\left( j-1 \\right) / q \\right\\rfloor +1} B_{\\left( i-1 \\right) \\% p +1, \\left( j-1 \\right ) \\% q + 1}$, where $a \\% p$ represents the remainder of the division $a / b$."
   ]
  },
  {
   "cell_type": "markdown",
   "metadata": {},
   "source": [
    "---"
   ]
  },
  {
   "cell_type": "markdown",
   "metadata": {},
   "source": [
    "These are like pretty neat formulas, but not much intuitive. It's just easier to show it by example:"
   ]
  },
  {
   "cell_type": "markdown",
   "metadata": {},
   "source": [
    "$\n",
    "\\begin{bmatrix}\n",
    "1 & 2 \\\\\n",
    "3 & 4 \\\\\n",
    "\\end{bmatrix} \\otimes{}\n",
    "\\begin{bmatrix}\n",
    "0 & 5 \\\\\n",
    "6 & 7 \\\\\n",
    "\\end{bmatrix} =\n",
    "\\begin{bmatrix}\n",
    "1 \\begin{bmatrix}\n",
    "0 & 5 \\\\\n",
    "6 & 7 \\\\\n",
    "\\end{bmatrix} & \n",
    "2 \\begin{bmatrix}\n",
    "0 & 5 \\\\\n",
    "6 & 7 \\\\\n",
    "\\end{bmatrix} \\\\\n",
    "3 \\begin{bmatrix}\n",
    "0 & 5 \\\\\n",
    "6 & 7 \\\\\n",
    "\\end{bmatrix} & \n",
    "4 \\begin{bmatrix}\n",
    "0 & 5 \\\\\n",
    "6 & 7 \\\\\n",
    "\\end{bmatrix} \\\\\n",
    "\\end{bmatrix} =\n",
    "\\begin{bmatrix}\n",
    "1\\cdot{} 0 & 1\\cdot{} 5 & 2\\cdot{} 0 & 2\\cdot{} 5 \\\\\n",
    "1\\cdot{} 6 & 1\\cdot{} 7 & 2\\cdot{} 6 & 2\\cdot{} 7 \\\\\n",
    "3\\cdot{} 0 & 3\\cdot{} 5 & 4\\cdot{} 0 & 4\\cdot{} 5 \\\\\n",
    "3\\cdot{} 6 & 3\\cdot{} 7 & 4\\cdot{} 6 & 4\\cdot{} 7 \\\\\n",
    "\\end{bmatrix} =\n",
    "\\begin{bmatrix}\n",
    "0 &  5 &  0 & 10 \\\\\n",
    "6 &  7 & 12 & 14 \\\\\n",
    "0 & 15 &  0 & 20 \\\\\n",
    "18 & 21 & 24 & 28 \\\\\n",
    "\\end{bmatrix}\n",
    "$"
   ]
  },
  {
   "cell_type": "markdown",
   "metadata": {},
   "source": [
    "---"
   ]
  },
  {
   "cell_type": "markdown",
   "metadata": {},
   "source": [
    "### <span id=\"Task-0\" style=\"color:turquoise\">Task 0</span> (max 40 p.)"
   ]
  },
  {
   "cell_type": "markdown",
   "metadata": {},
   "source": [
    "1. Given two matrices $\\A \\in \\mathcal{M}_{m\\times{}n}$, $\\B \\in \\mathcal{M}_{p\\times{}q}$ prove that $\\left( \\A \\otimes \\B \\right)_{p\\left( r-1 \\right)+v,q\\left( s-1 \\right)+w} = A_{r,s} B_{v,w}$.\n",
    "1. For any matrices $\\A$, $\\B$, $\\C$ (of appropriate sizes) prove that $\\A \\otimes{} \\left(\\B + \\C \\right) = \\left(\\A \\otimes \\B \\right) + \\left(\\A \\otimes \\C \\right)$.\n",
    "1. For any real number $k$ and matrices $\\A$, $\\B$ (of appropriate sizes) prove that $\\left( k\\A \\right) \\otimes \\B = \\A \\otimes \\left( k\\B \\right) = k \\left( \\A \\otimes \\B \\right)$.\n",
    "1. For any matrices $\\A$, $\\B$, $\\C$ (of appropriate sizes) prove that  $\\left( \\A \\otimes \\B \\right) \\otimes \\C = \\A \\otimes \\left( \\B \\otimes \\C \\right)$."
   ]
  },
  {
   "cell_type": "markdown",
   "metadata": {},
   "source": [
    "---"
   ]
  },
  {
   "cell_type": "markdown",
   "metadata": {},
   "source": [
    "For people familiar with algebra: Kronecker product is simply a tensor product of matrices."
   ]
  }
 ],
 "metadata": {
  "kernelspec": {
   "display_name": "Python 3",
   "language": "python",
   "name": "python3"
  },
  "language_info": {
   "codemirror_mode": {
    "name": "ipython",
    "version": 3
   },
   "file_extension": ".py",
   "mimetype": "text/x-python",
   "name": "python",
   "nbconvert_exporter": "python",
   "pygments_lexer": "ipython3",
   "version": "3.8.3"
  }
 },
 "nbformat": 4,
 "nbformat_minor": 4
}
