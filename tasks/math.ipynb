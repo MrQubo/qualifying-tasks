{
 "cells": [
  {
   "cell_type": "markdown",
   "metadata": {},
   "source": [
    "$\n",
    "\\newcommand{\\bmatrix}[1]{\\begin{bmatrix}#1\\end{bmatrix}}\n",
    "\\newcommand{\\transpose}{^{\\mkern-1.5mu\\mathsf{T}}}\n",
    "\\newcommand{\\ket}[1]{\\mathinner{|{#1}\\rangle}}\n",
    "\\newcommand{\\M}{\\mathsf{M}}\n",
    "\\newcommand{\\A}{\\mathsf{A}}\n",
    "\\newcommand{\\B}{\\mathsf{B}}\n",
    "\\newcommand{\\C}{\\mathsf{C}}\n",
    "$\n",
    "\n",
    "# Tasks – Math"
   ]
  },
  {
   "cell_type": "markdown",
   "metadata": {},
   "source": [
    "We start by defining that we consider only real numbers unless specified otherwise."
   ]
  },
  {
   "cell_type": "markdown",
   "metadata": {},
   "source": [
    "## Matrices\n",
    "\n",
    "We represent **matrices** in python using 2-dimensional numpy arrays. We don't use `np.matrix`, it's deprecated."
   ]
  },
  {
   "cell_type": "code",
   "execution_count": null,
   "metadata": {},
   "outputs": [],
   "source": [
    "import numpy as np"
   ]
  },
  {
   "cell_type": "markdown",
   "metadata": {},
   "source": [
    "---"
   ]
  },
  {
   "cell_type": "markdown",
   "metadata": {},
   "source": [
    "$ \\M = \\bmatrix{1 & 1 \\\\ 1 & -1} $"
   ]
  },
  {
   "cell_type": "code",
   "execution_count": null,
   "metadata": {},
   "outputs": [],
   "source": [
    "M = np.array([\n",
    "    [1, 1],\n",
    "    [1, -1],\n",
    "])\n",
    "print(M)"
   ]
  },
  {
   "cell_type": "markdown",
   "metadata": {},
   "source": [
    "---"
   ]
  },
  {
   "cell_type": "markdown",
   "metadata": {},
   "source": [
    "We can use `+` operator to sum matrices and `@` to multiply matrices.\\\n",
    "Be aware that `*` is used for element-wise multiplication and `**` – element-wise exponentation."
   ]
  },
  {
   "cell_type": "markdown",
   "metadata": {},
   "source": [
    "---"
   ]
  },
  {
   "cell_type": "markdown",
   "metadata": {},
   "source": [
    "$ \\M + \\M $"
   ]
  },
  {
   "cell_type": "code",
   "execution_count": null,
   "metadata": {},
   "outputs": [],
   "source": [
    "print(M + M)"
   ]
  },
  {
   "cell_type": "markdown",
   "metadata": {},
   "source": [
    "---"
   ]
  },
  {
   "cell_type": "markdown",
   "metadata": {},
   "source": [
    "$ \\M \\M $"
   ]
  },
  {
   "cell_type": "code",
   "execution_count": null,
   "metadata": {},
   "outputs": [],
   "source": [
    "print(M @ M)"
   ]
  },
  {
   "cell_type": "markdown",
   "metadata": {},
   "source": [
    "---"
   ]
  },
  {
   "cell_type": "markdown",
   "metadata": {},
   "source": [
    "$ \\M^2 $"
   ]
  },
  {
   "cell_type": "code",
   "execution_count": null,
   "metadata": {},
   "outputs": [],
   "source": [
    "print(np.linalg.matrix_power(M, 2))"
   ]
  },
  {
   "cell_type": "markdown",
   "metadata": {},
   "source": [
    "---"
   ]
  },
  {
   "cell_type": "markdown",
   "metadata": {},
   "source": [
    "$ 3 \\M $"
   ]
  },
  {
   "cell_type": "code",
   "execution_count": null,
   "metadata": {},
   "outputs": [],
   "source": [
    "print(3 * M)"
   ]
  },
  {
   "cell_type": "markdown",
   "metadata": {},
   "source": [
    "---"
   ]
  },
  {
   "cell_type": "markdown",
   "metadata": {},
   "source": [
    "Mathematically, we will be denoting the set of matrices of size $m \\times{} n$ ($m$ rows and $n$ columns) with $\\mathcal{M}_{m\\times{}n}$."
   ]
  },
  {
   "cell_type": "markdown",
   "metadata": {},
   "source": [
    "---"
   ]
  },
  {
   "cell_type": "markdown",
   "metadata": {},
   "source": [
    "## Vectors\n",
    "\n",
    "We represent **vectors** as single-solumn matrices."
   ]
  },
  {
   "cell_type": "markdown",
   "metadata": {},
   "source": [
    "---"
   ]
  },
  {
   "cell_type": "markdown",
   "metadata": {},
   "source": [
    "$ v = \\bmatrix{0 \\\\ 1} $"
   ]
  },
  {
   "cell_type": "code",
   "execution_count": null,
   "metadata": {},
   "outputs": [],
   "source": [
    "v = np.array([\n",
    "    [0],\n",
    "    [1],\n",
    "])\n",
    "print(v)"
   ]
  },
  {
   "cell_type": "markdown",
   "metadata": {},
   "source": [
    "---"
   ]
  },
  {
   "cell_type": "markdown",
   "metadata": {},
   "source": [
    "Typing vectors in python as in the example above is rather uncomfortable, it's simpler to do it like this:"
   ]
  },
  {
   "cell_type": "markdown",
   "metadata": {},
   "source": [
    "---"
   ]
  },
  {
   "cell_type": "markdown",
   "metadata": {},
   "source": [
    "$ v = \\bmatrix{0 & 1}^{\\transpose} $"
   ]
  },
  {
   "cell_type": "code",
   "execution_count": null,
   "metadata": {},
   "outputs": [],
   "source": [
    "v = np.array([[0, 1]]).T\n",
    "print(v)"
   ]
  },
  {
   "cell_type": "markdown",
   "metadata": {},
   "source": [
    "$\\mathsf{T}$ symbol denotes [**transposition**](https://en.wikipedia.org/wiki/Transpose)."
   ]
  },
  {
   "cell_type": "markdown",
   "metadata": {},
   "source": [
    "---"
   ]
  },
  {
   "cell_type": "markdown",
   "metadata": {},
   "source": [
    "### Vector Norm"
   ]
  },
  {
   "cell_type": "markdown",
   "metadata": {},
   "source": [
    "Given vector $v$:"
   ]
  },
  {
   "cell_type": "markdown",
   "metadata": {},
   "source": [
    "$ v = \\bmatrix{a_1 \\\\ \\vdots \\\\ a_n} $"
   ]
  },
  {
   "cell_type": "markdown",
   "metadata": {},
   "source": [
    "We define it's **norm**, denoted by $\\norm{v}$, as following:"
   ]
  },
  {
   "cell_type": "markdown",
   "metadata": {},
   "source": [
    "$\\norm{v} = \\sqrt{a_1^2 + \\cdots + a_n^2}$"
   ]
  },
  {
   "cell_type": "markdown",
   "metadata": {},
   "source": [
    ", or equivalently:"
   ]
  },
  {
   "cell_type": "markdown",
   "metadata": {},
   "source": [
    "$\\norm{v} >= 0$\\\n",
    "$\\norm{v}^2 = a_1^2 + \\cdots + a_n^2$"
   ]
  },
  {
   "cell_type": "markdown",
   "metadata": {},
   "source": [
    "We can calculate the norm of a vector in python with `np.linalg.norm()`."
   ]
  },
  {
   "cell_type": "markdown",
   "metadata": {},
   "source": [
    "---"
   ]
  },
  {
   "cell_type": "markdown",
   "metadata": {},
   "source": [
    "## Tensor product"
   ]
  },
  {
   "cell_type": "markdown",
   "metadata": {},
   "source": [
    "**Tensor product** of matrices is a binary operation $\\otimes{}$, which meets following axioms:"
   ]
  },
  {
   "cell_type": "markdown",
   "metadata": {},
   "source": [
    "1. For any pair of matrices $\\A \\in \\mathcal{M}_{m\\times{}n}$, $\\B \\in \\mathcal{M}_{p\\times{}q}$ holds $\\A \\otimes{} \\B \\in \\mathcal{M}_{m p\\times{}n q}$.\n",
    "1. For any matrices $\\A$, $\\B$, $\\C$ (of appropriate sizes) holds $\\A \\otimes{} \\left(\\B + \\C \\right) = \\left(\\A \\otimes \\B \\right) + \\left(\\A \\otimes \\C \\right)$.\n",
    "1. For any matrices $\\A$, $\\B$, $\\C$ (of appropriate sizes) holds $\\left(\\B + \\C \\right) \\otimes{} \\A = \\left(\\B \\otimes \\A \\right) + \\left(\\C \\otimes \\A \\right)$.\n",
    "1. For any real number $k$ and matrices $\\A$, $\\B$ (of appropriate sizes) holds $\\left( k\\A \\right) \\otimes \\B = \\A \\otimes \\left( k\\B \\right) = k \\left( \\A \\otimes \\B \\right)$.\n",
    "1. For any matrices $\\A$, $\\B$, $\\C$ (of appropriate sizes) holds  $\\left( \\A \\otimes \\B \\right) \\otimes \\C = \\A \\otimes \\left( \\B \\otimes \\C \\right)$."
   ]
  },
  {
   "cell_type": "markdown",
   "metadata": {},
   "source": [
    "---"
   ]
  },
  {
   "cell_type": "markdown",
   "metadata": {},
   "source": [
    "## Kronecker Product"
   ]
  },
  {
   "cell_type": "markdown",
   "metadata": {},
   "source": [
    "Given two matrices $\\A \\in \\mathcal{M}_{m\\times{}n}$, $\\B \\in \\mathcal{M}_{p\\times{}q}$:"
   ]
  },
  {
   "cell_type": "markdown",
   "metadata": {},
   "source": [
    "$\\A = \\bmatrix{a_{1,1} & \\cdots{} & a_{1,n} \\\\ \\vdots{} & \\ddots{} & \\vdots{} \\\\ a_{m,1} & \\cdots{} & a_{m,n} }$\n",
    "\n",
    "$\\B = \\bmatrix{b_{1,1} & \\cdots{} & b_{1,q} \\\\ \\vdots{} & \\ddots{} & \\vdots{} \\\\ b_{p,1} & \\cdots{} & b_{p,q} }$"
   ]
  },
  {
   "cell_type": "markdown",
   "metadata": {},
   "source": [
    "We define their **Kronecker product**, denoted by $\\A \\otimes{} \\B$, as following:"
   ]
  },
  {
   "cell_type": "markdown",
   "metadata": {},
   "source": [
    "$\\A \\otimes{} \\B = \\bmatrix{   a_{1,1} b_{1,1} & a_{1,1} b_{1,2} & \\cdots & a_{1,1} b_{1,q} &\n",
    "                   \\cdots & \\cdots & a_{1,n} b_{1,1} & a_{1,n} b_{1,2} & \\cdots & a_{1,n} b_{1,q} \\\\\n",
    "   a_{1,1} b_{2,1} & a_{1,1} b_{2,2} & \\cdots & a_{1,1} b_{2,q} &\n",
    "                   \\cdots & \\cdots & a_{1,n} b_{2,1} & a_{1,n} b_{2,2} & \\cdots & a_{1,n} b_{2,q} \\\\\n",
    "   \\vdots & \\vdots & \\ddots & \\vdots & & & \\vdots & \\vdots & \\ddots & \\vdots \\\\\n",
    "   a_{1,1} b_{p,1} & a_{1,1} b_{p,2} & \\cdots & a_{1,1} b_{p,q} &\n",
    "                   \\cdots & \\cdots & a_{1,n} b_{p,1} & a_{1,n} b_{p,2} & \\cdots & a_{1,n} b_{p,q} \\\\\n",
    "   \\vdots & \\vdots & & \\vdots & \\ddots & & \\vdots & \\vdots & & \\vdots \\\\\n",
    "   \\vdots & \\vdots & & \\vdots & & \\ddots & \\vdots & \\vdots & & \\vdots \\\\\n",
    "   a_{m,1} b_{1,1} & a_{m,1} b_{1,2} & \\cdots & a_{m,1} b_{1,q} &\n",
    "                   \\cdots & \\cdots & a_{m,n} b_{1,1} & a_{m,n} b_{1,2} & \\cdots & a_{m,n} b_{1,q} \\\\\n",
    "   a_{m,1} b_{2,1} & a_{m,1} b_{2,2} & \\cdots & a_{m,1} b_{2,q} &\n",
    "                   \\cdots & \\cdots & a_{m,n} b_{2,1} & a_{m,n} b_{2,2} & \\cdots & a_{m,n} b_{2,q} \\\\\n",
    "   \\vdots & \\vdots & \\ddots & \\vdots & & & \\vdots & \\vdots & \\ddots & \\vdots \\\\\n",
    "   a_{m,1} b_{p,1} & a_{m,1} b_{p,2} & \\cdots & a_{m,1} b_{p,q} &\n",
    "                   \\cdots & \\cdots & a_{m,n} b_{p,1} & a_{m,n} b_{p,2} & \\cdots & a_{m,n} b_{p,q}}$"
   ]
  },
  {
   "cell_type": "markdown",
   "metadata": {},
   "source": [
    "---"
   ]
  },
  {
   "cell_type": "markdown",
   "metadata": {},
   "source": [
    "This is like a pretty neat formula, but completely unreadable. It's just easier to show it by example:"
   ]
  },
  {
   "cell_type": "markdown",
   "metadata": {},
   "source": [
    "$\n",
    "\\begin{bmatrix}\n",
    "1 & 2 \\\\\n",
    "3 & 4 \\\\\n",
    "\\end{bmatrix} \\otimes{}\n",
    "\\begin{bmatrix}\n",
    "0 & 5 \\\\\n",
    "6 & 7 \\\\\n",
    "\\end{bmatrix} =\n",
    "\\begin{bmatrix}\n",
    "1 \\begin{bmatrix}\n",
    "0 & 5 \\\\\n",
    "6 & 7 \\\\\n",
    "\\end{bmatrix} & \n",
    "2 \\begin{bmatrix}\n",
    "0 & 5 \\\\\n",
    "6 & 7 \\\\\n",
    "\\end{bmatrix} \\\\\n",
    "3 \\begin{bmatrix}\n",
    "0 & 5 \\\\\n",
    "6 & 7 \\\\\n",
    "\\end{bmatrix} & \n",
    "4 \\begin{bmatrix}\n",
    "0 & 5 \\\\\n",
    "6 & 7 \\\\\n",
    "\\end{bmatrix} \\\\\n",
    "\\end{bmatrix} =\n",
    "\\begin{bmatrix}\n",
    "1\\cdot{} 0 & 1\\cdot{} 5 & 2\\cdot{} 0 & 2\\cdot{} 5 \\\\\n",
    "1\\cdot{} 6 & 1\\cdot{} 7 & 2\\cdot{} 6 & 2\\cdot{} 7 \\\\\n",
    "3\\cdot{} 0 & 3\\cdot{} 5 & 4\\cdot{} 0 & 4\\cdot{} 5 \\\\\n",
    "3\\cdot{} 6 & 3\\cdot{} 7 & 4\\cdot{} 6 & 4\\cdot{} 7 \\\\\n",
    "\\end{bmatrix} =\n",
    "\\begin{bmatrix}\n",
    "0 &  5 &  0 & 10 \\\\\n",
    "6 &  7 & 12 & 14 \\\\\n",
    "0 & 15 &  0 & 20 \\\\\n",
    "18 & 21 & 24 & 28 \\\\\n",
    "\\end{bmatrix}\n",
    "$"
   ]
  },
  {
   "cell_type": "markdown",
   "metadata": {},
   "source": [
    "---"
   ]
  },
  {
   "cell_type": "markdown",
   "metadata": {},
   "source": [
    "### <span id=\"Task-0\" style=\"color:turquoise\">Task 0</span> (max 40 p.)"
   ]
  },
  {
   "cell_type": "markdown",
   "metadata": {},
   "source": [
    "Prove Kronecker product is a tensor product. You don't need to be very thorough."
   ]
  },
  {
   "cell_type": "markdown",
   "metadata": {},
   "source": [
    "---"
   ]
  },
  {
   "cell_type": "markdown",
   "metadata": {},
   "source": [
    "Basically, the whole point of introducing Kronecker product was to prove that tensor product exists. We will be only interesed in tensor product axioms and other properties arising from them."
   ]
  }
 ],
 "metadata": {
  "kernelspec": {
   "display_name": "Python 3",
   "language": "python",
   "name": "python3"
  },
  "language_info": {
   "codemirror_mode": {
    "name": "ipython",
    "version": 3
   },
   "file_extension": ".py",
   "mimetype": "text/x-python",
   "name": "python",
   "nbconvert_exporter": "python",
   "pygments_lexer": "ipython3",
   "version": "3.8.3"
  }
 },
 "nbformat": 4,
 "nbformat_minor": 4
}
