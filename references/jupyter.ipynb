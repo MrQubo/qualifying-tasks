{
 "cells": [
  {
   "cell_type": "markdown",
   "metadata": {},
   "source": [
    "#  How to Jupyter"
   ]
  },
  {
   "cell_type": "markdown",
   "metadata": {},
   "source": [
    "## JupyterLab Interface"
   ]
  },
  {
   "cell_type": "markdown",
   "metadata": {},
   "source": [
    "### Menu Bar\n",
    "\n",
    "The menu bar at the top of JupyterLab consists of top-level menus that expose many actions available in JupyterLab. The default menus are:\n",
    "\n",
    "- _File_: Actions related to files and directories.\n",
    "- _Edit_: Actions related to editing documents and other activities.\n",
    "- _View_: Actions that alter the appearance of JupyterLab.\n",
    "- _Run_: Actions for running code in different activities such as notebooks and code consoles.\n",
    "- _Kernel_: Actions for managing kernels, which are separate processes for running code.\n",
    "- _Tabs_: A list of the open documents and activities in the dock panel.\n",
    "- _Settings_: Common settings and an advanced settings editor.\n",
    "- _Help_: A list of JupyterLab and kernel help links.\n",
    "\n",
    "There's no need to go over those menus right now. We will come back to them later.\n",
    "\n",
    "You might want to change Theme or Font Size in the \"Settigns\" menu. Be aware that the \"Text Editor\" settings don't apply to notebooks."
   ]
  },
  {
   "cell_type": "markdown",
   "metadata": {},
   "source": [
    "### Left Sidebar\n",
    "\n",
    "The left sidebar contains commonly-used tabs. The default tabs are:\n",
    "- _File browser_ (![Folder Icon](data:image/svg+xml;base64,PHN2ZyB4bWxucz0iaHR0cDovL3d3dy53My5vcmcvMjAwMC9zdmciIHdpZHRoPSIxNiIgdmlld0JveD0iMCAwIDI0IDI0Ij48cGF0aCBjbGFzcz0ianAtaWNvbjMiIGZpbGw9IiM2MTYxNjEiIGQ9Ik0xMCA0SDRjLTEuMSAwLTEuOTkuOS0xLjk5IDJMMiAxOGMwIDEuMS45IDIgMiAyaDE2YzEuMSAwIDItLjkgMi0yVjhjMC0xLjEtLjktMi0yLTJoLThsLTItMnoiPjwvcGF0aD48L3N2Zz4%3D)): Inspect and create files and directories.\n",
    "- _Running Terminals and Kernels_ (![Stop Circle Icon](data:image/svg+xml;base64,PHN2ZyB4bWxucz0iaHR0cDovL3d3dy53My5vcmcvMjAwMC9zdmciIHdpZHRoPSIxNiIgdmlld0JveD0iMCAwIDUxMiA1MTIiPjxnIGNsYXNzPSJqcC1pY29uMyIgZmlsbD0iIzYxNjE2MSI%2BPHBhdGggZD0iTTI1NiA4QzExOSA4IDggMTE5IDggMjU2czExMSAyNDggMjQ4IDI0OCAyNDgtMTExIDI0OC0yNDhTMzkzIDggMjU2IDh6bTk2IDMyOGMwIDguOC03LjIgMTYtMTYgMTZIMTc2Yy04LjggMC0xNi03LjItMTYtMTZWMTc2YzAtOC44IDcuMi0xNiAxNi0xNmgxNjBjOC44IDAgMTYgNy4yIDE2IDE2djE2MHoiPjwvcGF0aD48L2c%2BPC9zdmc%2B)): Inspect and shut down running kernel and terminal sessions.\n",
    "- _Commands_ (![File Search Icon](data:image/svg+xml;base64,PHN2ZyB4bWxucz0iaHR0cDovL3d3dy53My5vcmcvMjAwMC9zdmciIHdpZHRoPSIxNiIgdmlld0JveD0iMCAwIDI0IDI0Ij48ZyBjbGFzcz0ianAtaWNvbjMiIGZpbGw9IiM2MTYxNjEiPjxwYXRoIGQ9Ik0xOCAxM1YyMEg0VjZIOS4wMkM5LjA3IDUuMjkgOS4yNCA0LjYyIDkuNSA0SDRDMi45IDQgMiA0LjkgMiA2VjIwQzIgMjEuMSAyLjkgMjIgNCAyMkgxOEMxOS4xIDIyIDIwIDIxLjEgMjAgMjBWMTVMMTggMTNaTTE5LjMgOC44OUMxOS43NCA4LjE5IDIwIDcuMzggMjAgNi41QzIwIDQuMDEgMTcuOTkgMiAxNS41IDJDMTMuMDEgMiAxMSA0LjAxIDExIDYuNUMxMSA4Ljk5IDEzLjAxIDExIDE1LjQ5IDExQzE2LjM3IDExIDE3LjE5IDEwLjc0IDE3Ljg4IDEwLjNMMjEgMTMuNDJMMjIuNDIgMTJMMTkuMyA4Ljg5Wk0xNS41IDlDMTQuMTIgOSAxMyA3Ljg4IDEzIDYuNUMxMyA1LjEyIDE0LjEyIDQgMTUuNSA0QzE2Ljg4IDQgMTggNS4xMiAxOCA2LjVDMTggNy44OCAxNi44OCA5IDE1LjUgOVoiPjwvcGF0aD48cGF0aCBmaWxsLXJ1bGU9ImV2ZW5vZGQiIGNsaXAtcnVsZT0iZXZlbm9kZCIgZD0iTTQgNkg5LjAxODk0QzkuMDA2MzkgNi4xNjUwMiA5IDYuMzMxNzYgOSA2LjVDOSA4LjgxNTc3IDEwLjIxMSAxMC44NDg3IDEyLjAzNDMgMTJIOVYxNEgxNlYxMi45ODExQzE2LjU3MDMgMTIuOTM3NyAxNy4xMiAxMi44MjA3IDE3LjYzOTYgMTIuNjM5NkwxOCAxM1YyMEg0VjZaTTggOEg2VjEwSDhWOFpNNiAxMkg4VjE0SDZWMTJaTTggMTZINlYxOEg4VjE2Wk05IDE2SDE2VjE4SDlWMTZaIj48L3BhdGg%2BPC9nPjwvc3ZnPg%3D%3D)): List of all JupyterLab commands and their keyboard shortcuts.\n",
    "- _Property inspector_ (![Cogs Icon](data:image/svg+xml;base64,PHN2ZyB3aWR0aD0iMTYiIHZpZXdCb3g9IjAgMCAyNCAyNCIgeG1sbnM9Imh0dHA6Ly93d3cudzMub3JnLzIwMDAvc3ZnIj48ZyBjbGFzcz0ianAtaWNvbjMiIGZpbGw9IiM2MTYxNjEiPjxwYXRoIGQ9Ik0xNC45IDE3LjQ1QzE2LjI1IDE3LjQ1IDE3LjM1IDE2LjM1IDE3LjM1IDE1QzE3LjM1IDEzLjY1IDE2LjI1IDEyLjU1IDE0LjkgMTIuNTVDMTMuNTQgMTIuNTUgMTIuNDUgMTMuNjUgMTIuNDUgMTVDMTIuNDUgMTYuMzUgMTMuNTQgMTcuNDUgMTQuOSAxNy40NVpNMjAuMSAxNS42OEwyMS41OCAxNi44NEMyMS43MSAxNi45NSAyMS43NSAxNy4xMyAyMS42NiAxNy4yOUwyMC4yNiAxOS43MUMyMC4xNyAxOS44NiAyMCAxOS45MiAxOS44MyAxOS44NkwxOC4wOSAxOS4xNkMxNy43MyAxOS40NCAxNy4zMyAxOS42NyAxNi45MSAxOS44NUwxNi42NCAyMS43QzE2LjYyIDIxLjg3IDE2LjQ3IDIyIDE2LjMgMjJIMTMuNUMxMy4zMiAyMiAxMy4xOCAyMS44NyAxMy4xNSAyMS43TDEyLjg5IDE5Ljg1QzEyLjQ2IDE5LjY3IDEyLjA3IDE5LjQ0IDExLjcxIDE5LjE2TDkuOTYwMDIgMTkuODZDOS44MTAwMiAxOS45MiA5LjYyMDAyIDE5Ljg2IDkuNTQwMDIgMTkuNzFMOC4xNDAwMiAxNy4yOUM4LjA1MDAyIDE3LjEzIDguMDkwMDIgMTYuOTUgOC4yMjAwMiAxNi44NEw5LjcwMDAyIDE1LjY4TDkuNjUwMDEgMTVMOS43MDAwMiAxNC4zMUw4LjIyMDAyIDEzLjE2QzguMDkwMDIgMTMuMDUgOC4wNTAwMiAxMi44NiA4LjE0MDAyIDEyLjcxTDkuNTQwMDIgMTAuMjlDOS42MjAwMiAxMC4xMyA5LjgxMDAyIDEwLjA3IDkuOTYwMDIgMTAuMTNMMTEuNzEgMTAuODRDMTIuMDcgMTAuNTYgMTIuNDYgMTAuMzIgMTIuODkgMTAuMTVMMTMuMTUgOC4yODk5OEMxMy4xOCA4LjEyOTk4IDEzLjMyIDcuOTk5OTggMTMuNSA3Ljk5OTk4SDE2LjNDMTYuNDcgNy45OTk5OCAxNi42MiA4LjEyOTk4IDE2LjY0IDguMjg5OThMMTYuOTEgMTAuMTVDMTcuMzMgMTAuMzIgMTcuNzMgMTAuNTYgMTguMDkgMTAuODRMMTkuODMgMTAuMTNDMjAgMTAuMDcgMjAuMTcgMTAuMTMgMjAuMjYgMTAuMjlMMjEuNjYgMTIuNzFDMjEuNzUgMTIuODYgMjEuNzEgMTMuMDUgMjEuNTggMTMuMTZMMjAuMSAxNC4zMUwyMC4xNSAxNUwyMC4xIDE1LjY4WiI%2BPC9wYXRoPjxwYXRoIGQ9Ik03LjMyOTY2IDcuNDQ0NTRDOC4wODMxIDcuMDA5NTQgOC4zMzkzMiA2LjA1MzMyIDcuOTA0MzIgNS4yOTk4OEM3LjQ2OTMyIDQuNTQ2NDMgNi41MDgxIDQuMjgxNTYgNS43NTQ2NiA0LjcxNjU2QzUuMzkxNzYgNC45MjYwOCA1LjEyNjk1IDUuMjcxMTggNS4wMTg0OSA1LjY3NTk0QzQuOTEwMDQgNi4wODA3MSA0Ljk2NjgyIDYuNTExOTggNS4xNzYzNCA2Ljg3NDg4QzUuNjExMzQgNy42MjgzMiA2LjU3NjIyIDcuODc5NTQgNy4zMjk2NiA3LjQ0NDU0Wk05LjY1NzE4IDQuNzk1OTNMMTAuODY3MiA0Ljk1MTc5QzEwLjk2MjggNC45Nzc0MSAxMS4wNDAyIDUuMDcxMzMgMTEuMDM4MiA1LjE4NzkzTDExLjAzODggNi45ODg5M0MxMS4wNDU1IDcuMTAwNTQgMTAuOTYxNiA3LjE5NTE4IDEwLjg1NSA3LjIxMDU0TDkuNjYwMDEgNy4zODA4M0w5LjIzOTE1IDguMTMxODhMOS42Njk2MSA5LjI1NzQ1QzkuNzA3MjkgOS4zNjI3MSA5LjY2OTM0IDkuNDc2OTkgOS41NzQwOCA5LjUzMTk5TDguMDE1MjMgMTAuNDMyQzcuOTExMzEgMTAuNDkyIDcuNzkzMzcgMTAuNDY3NyA3LjcyMTA1IDEwLjM4MjRMNi45ODc0OCA5LjQzMTg4TDYuMTA5MzEgOS40MzA4M0w1LjM0NzA0IDEwLjM5MDVDNS4yODkwOSAxMC40NzAyIDUuMTczODMgMTAuNDkwNSA1LjA3MTg3IDEwLjQzMzlMMy41MTI0NSA5LjUzMjkzQzMuNDEwNDkgOS40NzYzMyAzLjM3NjQ3IDkuMzU3NDEgMy40MTA3NSA5LjI1Njc5TDMuODYzNDcgOC4xNDA5M0wzLjYxNzQ5IDcuNzc0ODhMMy40MjM0NyA3LjM3ODgzTDIuMjMwNzUgNy4yMTI5N0MyLjEyNjQ3IDcuMTkyMzUgMi4wNDA0OSA3LjEwMzQyIDIuMDQyNDUgNi45ODY4MkwyLjA0MTg3IDUuMTg1ODJDMi4wNDM4MyA1LjA2OTIyIDIuMTE5MDkgNC45Nzk1OCAyLjIxNzA0IDQuOTY5MjJMMy40MjA2NSA0Ljc5MzkzTDMuODY3NDkgNC4wMjc4OEwzLjQxMTA1IDIuOTE3MzFDMy4zNzMzNyAyLjgxMjA0IDMuNDExMzEgMi42OTc3NiAzLjUxNTIzIDIuNjM3NzZMNS4wNzQwOCAxLjczNzc2QzUuMTY5MzQgMS42ODI3NiA1LjI4NzI5IDEuNzA3MDQgNS4zNTk2MSAxLjc5MjMxTDYuMTE5MTUgMi43Mjc4OEw2Ljk4MDAxIDIuNzM4OTNMNy43MjQ5NiAxLjc4OTIyQzcuNzkxNTYgMS43MDQ1OCA3LjkxNTQ4IDEuNjc5MjIgOC4wMDg3OSAxLjc0MDgyTDkuNTY4MjEgMi42NDE4MkM5LjY3MDE3IDIuNjk4NDIgOS43MTI4NSAyLjgxMjM0IDkuNjg3MjMgMi45MDc5N0w5LjIxNzE4IDQuMDMzODNMOS40NjMxNiA0LjM5OTg4TDkuNjU3MTggNC43OTU5M1oiPjwvcGF0aD48L2c%2BPC9zdmc%2B)): Additional widget properties. Not very useful for default notebooks but might be used by some extensions.\n",
    "- _Open tabs_ (![Tab Icon](data:image/svg+xml;base64,PHN2ZyB4bWxucz0iaHR0cDovL3d3dy53My5vcmcvMjAwMC9zdmciIHdpZHRoPSIxNiIgdmlld0JveD0iMCAwIDI0IDI0Ij48ZyBjbGFzcz0ianAtaWNvbjMiIGZpbGw9IiM2MTYxNjEiPjxwYXRoIGQ9Ik0yMSAzSDNjLTEuMSAwLTIgLjktMiAydjE0YzAgMS4xLjkgMiAyIDJoMThjMS4xIDAgMi0uOSAyLTJWNWMwLTEuMS0uOS0yLTItMnptMCAxNkgzVjVoMTB2NGg4djEweiI%2BPC9wYXRoPjwvZz48L3N2Zz4%3D)): List of all tabs in the main work area (not to confuse with the sidebar tabs).\n",
    "- _Extension manager_ (![Puzzle Piece Icon](data:image/svg+xml;base64,PHN2ZyB4bWxucz0iaHR0cDovL3d3dy53My5vcmcvMjAwMC9zdmciIHdpZHRoPSIxNiIgdmlld0JveD0iMCAwIDI0IDI0Ij48ZyBjbGFzcz0ianAtaWNvbjMiIGZpbGw9IiM2MTYxNjEiPjxwYXRoIGQ9Ik0yMC41IDExSDE5VjdjMC0xLjEtLjktMi0yLTJoLTRWMy41QzEzIDIuMTIgMTEuODggMSAxMC41IDFTOCAyLjEyIDggMy41VjVINGMtMS4xIDAtMS45OS45LTEuOTkgMnYzLjhIMy41YzEuNDkgMCAyLjcgMS4yMSAyLjcgMi43cy0xLjIxIDIuNy0yLjcgMi43SDJWMjBjMCAxLjEuOSAyIDIgMmgzLjh2LTEuNWMwLTEuNDkgMS4yMS0yLjcgMi43LTIuNyAxLjQ5IDAgMi43IDEuMjEgMi43IDIuN1YyMkgxN2MxLjEgMCAyLS45IDItMnYtNGgxLjVjMS4zOCAwIDIuNS0xLjEyIDIuNS0yLjVTMjEuODggMTEgMjAuNSAxMXoiPjwvcGF0aD48L2c%2BPC9zdmc%2B)): Install additional extensions. Please read the **warning** before installing any extension.\n",
    "\n",
    "You can change the width of the sidebar by draggin it's right side with the mouse.\\\n",
    "You can also collapse it by clicking on the currently open tab or from the \"View\" top-level menu."
   ]
  },
  {
   "cell_type": "markdown",
   "metadata": {},
   "source": [
    "### Main Work Area\n",
    "\n",
    "#### Tab Bar\n",
    "\n",
    "Tab bar is located right under menu bar. It is a list of currenly open notebooks, terminals and files. Right now you probably have two tabs, this is `index.ipynb` and `jupyter.ipynb`.\n",
    "\n",
    "#### Tool Bar\n",
    "\n",
    "Tool bar is located right under tab bar. From tool bar you can invoke some common cell actions, we will learn about them later."
   ]
  },
  {
   "cell_type": "markdown",
   "metadata": {},
   "source": [
    "### Status Bar\n",
    "\n",
    "The status bar at the bottom of JupyterLab contains some most important information."
   ]
  },
  {
   "cell_type": "markdown",
   "metadata": {},
   "source": [
    "## Notebooks\n",
    "\n",
    "Jupyter files are called _notebooks_.\n",
    "\n",
    "Notebooks allows us to add and run code in addition to simple text and other graphical elements.\\\n",
    "Notebooks are an instance of a [literate programming](https://en.wikipedia.org/wiki/Literate_programming) tool."
   ]
  },
  {
   "cell_type": "markdown",
   "metadata": {},
   "source": [
    "## Kernels\n",
    "\n",
    "To run code within a notebook you need a _kernel_.\\\n",
    "You can check the name of your current kernel on the left side of the status bar or on the right side of the tool bar.\\\n",
    "Right now you should be running a \"Python 3\" kernel."
   ]
  },
  {
   "cell_type": "markdown",
   "metadata": {},
   "source": [
    "## Cells\n",
    "\n",
    "A jupyter notebook is composed of _cells_.\n",
    "\n",
    "Cells can contain code, text, mathematical formulas, images, etc.\n",
    "\n",
    "The first cell of this notebook consists solely of the \"How to Jupyter\" text.\\\n",
    "The second cell consists of the information about notebooks."
   ]
  },
  {
   "cell_type": "markdown",
   "metadata": {},
   "source": [
    "### Active Cell\n",
    "\n",
    "Try clicking on this text with the mouse and then find <span style=\"color: rgb(33, 150, 243);font-weight:600\">blue</span> line on the left side of the cell. It indicates **active cell**.\n",
    "\n",
    "You've just changed active cell by clicking on the cell with the mouse. Try clicking on the next cell to see how the position of the <span style=\"color: rgb(33, 150, 243);font-weight:600\">blue</span> line changes and then continue reading.\n",
    "\n",
    "Note: Don't click on the <span style=\"color: rgb(33, 150, 243);font-weight:600\">blue</span> line itself. This will collapse the cell (it will be explained later)."
   ]
  },
  {
   "cell_type": "markdown",
   "metadata": {},
   "source": [
    "### Cell Types\n",
    "\n",
    "Cells have different types.\\\n",
    "The type of the active cell is shown on the toolbar under the menu bar.\\\n",
    "The type of this cell and all the previous ones is \"Markdown\". Try to find it now.\n",
    "\n",
    "There are two main types of cells:\n",
    "- **Markdown**: Markdown is a rich text format. It allows us to not only type text but also easily style it visually. It can also be combined with <abbr>HTML</abbr> and $\\LaTeX{}$. We will learn a bit about markdown later.\n",
    "- **Code**:  Those cells allows us to type code, run it and see the results."
   ]
  },
  {
   "cell_type": "markdown",
   "metadata": {},
   "source": [
    "### Running Cells\n",
    "\n",
    "It's assumed that you already know the python. If you need a refresher you can check out the [Python Cheatsheet](https://www.pythoncheatsheet.org) right now.\n",
    "\n",
    "Below is an example of a code cell. You can run it by making it an active cell and then hitting <kbd>Ctrl</kbd><span style=\"font-weight:600\">+</span><kbd>Enter</kbd> on a keyboard. You can also run it with a triangle (![Triangle Icon](data:image/svg+xml;base64,PHN2ZyB2aWV3Qm94PSIwIDAgMjQgMjQiIHdpZHRoPSIxNiIgeG1sbnM9Imh0dHA6Ly93d3cudzMub3JnLzIwMDAvc3ZnIj48ZyB4bWxucz0iaHR0cDovL3d3dy53My5vcmcvMjAwMC9zdmciIGNsYXNzPSJqcC1pY29uMyIgZmlsbD0iIzYxNjE2MSI%2BPHBhdGggZD0iTTggNXYxNGwxMS03eiI%2BPC9wYXRoPjwvZz48L3N2Zz4%3D)) on the toolbar or from the \"Run\" top-level menu.\\\n",
    "Try running this \"Hello World\" code right now."
   ]
  },
  {
   "cell_type": "code",
   "execution_count": null,
   "metadata": {},
   "outputs": [],
   "source": [
    "# Here's an example of a code cell.\n",
    "# It contains python \"Hello World\" code.\n",
    "\n",
    "print('Hello, World!')"
   ]
  },
  {
   "cell_type": "markdown",
   "metadata": {},
   "source": [
    "Notice that the type the previous cell is \"_Code_\"."
   ]
  },
  {
   "cell_type": "markdown",
   "metadata": {},
   "source": [
    "Cells can be run mutliple times. Sometimes the code might produce different results each times it is run.\\\n",
    "Try running the following cell more than once."
   ]
  },
  {
   "cell_type": "code",
   "execution_count": null,
   "metadata": {},
   "outputs": [],
   "source": [
    "import random\n",
    "\n",
    "n = 10\n",
    "random.randrange(n)"
   ]
  },
  {
   "cell_type": "markdown",
   "metadata": {},
   "source": [
    "As you can see we don't need to use `print()` function.\\\n",
    "JupyterLab will automatically display the result of the last statement of a python code if this result isn't the special value `None`."
   ]
  },
  {
   "cell_type": "markdown",
   "metadata": {},
   "source": [
    "Try running the following two cells. You can use <kbd>Shift</kbd><span style=\"font-weight:600\">+</span><kbd>Enter</kbd> to run a cell _and_ advance to the next one."
   ]
  },
  {
   "cell_type": "code",
   "execution_count": null,
   "metadata": {},
   "outputs": [],
   "source": [
    "s = 'Witaj, świecie!'"
   ]
  },
  {
   "cell_type": "code",
   "execution_count": null,
   "metadata": {},
   "outputs": [],
   "source": [
    "print(s)"
   ]
  },
  {
   "cell_type": "markdown",
   "metadata": {},
   "source": [
    "Variables, as well as functions, classes, modules, etc. are preserved across different cells.\n",
    "\n",
    "Important thing to know is that it is not the order of cells within the notebook that matters but _the order in which you run the cells_.\\\n",
    "To indicate the point. First try running the following three cells in order. Then try running only the 1st and the 3rd cell."
   ]
  },
  {
   "cell_type": "code",
   "execution_count": null,
   "metadata": {},
   "outputs": [],
   "source": [
    "s = 'Ciao mondo!'"
   ]
  },
  {
   "cell_type": "code",
   "execution_count": null,
   "metadata": {},
   "outputs": [],
   "source": [
    "s = 'Addio mondo!'"
   ]
  },
  {
   "cell_type": "code",
   "execution_count": null,
   "metadata": {},
   "outputs": [],
   "source": [
    "print(s)"
   ]
  },
  {
   "cell_type": "markdown",
   "metadata": {},
   "source": [
    "Remember this! If you execute some cell and you get an error saying that some variable isn't defined check if you didn't skip some previous cells in the notebook.\\\n",
    "You can use \"Run All Above Selected Cell\" from \"Run\" top-level menu to run all cells up to the active cell in the order they apper in the notebook."
   ]
  },
  {
   "cell_type": "markdown",
   "metadata": {},
   "source": [
    "### Editing Code Cells\n",
    "\n",
    "To edit a code cell simply click on it to place a cursor inside the edit area.\n",
    "\n",
    "Try running following code."
   ]
  },
  {
   "cell_type": "code",
   "execution_count": null,
   "metadata": {},
   "outputs": [],
   "source": [
    "s = 'ハロー・ワールド'\n",
    "print(XXX)"
   ]
  },
  {
   "cell_type": "markdown",
   "metadata": {},
   "source": [
    "Ops! There's something wrong with it. Try fixing it."
   ]
  },
  {
   "cell_type": "markdown",
   "metadata": {},
   "source": [
    "### Editing Markdown Cells\n",
    "\n",
    "To edit a markdown cell you first need to display it's source. \\\n",
    "You can do so by _double-clicking_ (ie. clicking with a mouse twice in a quick succession) on it.\n",
    "\n",
    "Try double-clicking on this cell right now.\n",
    "\n",
    "You should notice a few visual changes to this cell. Actualy, it's very similiar to the code cell. You can also edit it in the same way as the code cell.\n",
    "\n",
    "To return to the previous state you need to simply run this markdown cell just in the same way you run a code cell. Try doing this right now.\n",
    "\n",
    "We won't delve into markdown syntax because it's not needed for this course.\\\n",
    "If you're interested you can view the source of other markdown cells or check out [avesome-markdown](https://github.com/mundimark/awesome-markdown#markdown-getting-started-guides--tutorials) for a list of tutorials."
   ]
  },
  {
   "cell_type": "markdown",
   "metadata": {},
   "source": [
    "### Creating Cells\n",
    "\n",
    "You can insert new cell with a plus (![Plus Icon](data:image/svg+xml;base64,PHN2ZyB4bWxucz0iaHR0cDovL3d3dy53My5vcmcvMjAwMC9zdmciIHdpZHRoPSIxNiIgdmlld0JveD0iMCAwIDI0IDI0Ij48ZyB4bWxucz0iaHR0cDovL3d3dy53My5vcmcvMjAwMC9zdmciIGNsYXNzPSJqcC1pY29uMyIgZmlsbD0iIzYxNjE2MSI%2BPHBhdGggZD0iTTE5IDEzaC02djZoLTJ2LTZINXYtMmg2VjVoMnY2aDZ2MnoiPjwvcGF0aD48L2c%2BPC9zdmc%2B)) on the toolbar.\\\n",
    "This will insert a new _code_ cell right _below the active cell_.\n",
    "\n",
    "Try creating a new code cell right below this one (above \"Moving Cells\") and write some simple code. You can write \"Hello World\" or something different if you're feeling creative."
   ]
  },
  {
   "cell_type": "markdown",
   "metadata": {},
   "source": [
    "### Moving Cells\n",
    "\n",
    "It's possible to reorder the cells simply by dragging them.\n",
    "\n",
    "Move your mouse to the left side of cell (between active cells' <span style=\"color: rgb(33, 150, 243);font-weight:600\">blue</span> line and the cell itself).\n",
    "Your cursor should change to some sort of a \"draggable\" icon.\n",
    "That's when you can hold the left mouse button and drag the cell somewhere else.\\\n",
    "Keep in mind than you can only drag an active cell, so if you want to drag a cell which isn't active you need to click _twice_. First time to make it an active cell and the second one to drag it.\n",
    "\n",
    "Try swapping the order of the two cells below."
   ]
  },
  {
   "cell_type": "markdown",
   "metadata": {},
   "source": [
    "---"
   ]
  },
  {
   "cell_type": "markdown",
   "metadata": {},
   "source": [
    "A: Because it messes up the order in which people normally read text."
   ]
  },
  {
   "cell_type": "markdown",
   "metadata": {},
   "source": [
    "Q: Why is top-posting such a bad thing?"
   ]
  },
  {
   "cell_type": "markdown",
   "metadata": {},
   "source": [
    "---"
   ]
  },
  {
   "cell_type": "markdown",
   "metadata": {},
   "source": [
    "Well, you've just spoiled the joke. Better put it back in the original order."
   ]
  },
  {
   "cell_type": "markdown",
   "metadata": {},
   "source": [
    "### Collapsing Cells\n",
    "\n",
    "Sometimes it's useful to collapse (fold) some cells.\n",
    "\n",
    "It can be done by clicking on the <span style=\"color: rgb(33, 150, 243);font-weight:600\">blue</span> line on the left side of the cell.\\\n",
    "You don't need to activate the cell beforehand, if you hover over the left side of the cell the <span style=\"color: rgb(33, 150, 243);font-weight:600\">blue</span> line will appear.\n",
    "\n",
    "Try to collapse the following cell."
   ]
  },
  {
   "cell_type": "markdown",
   "metadata": {},
   "source": [
    "---\n",
    "\n",
    "Vous savez, moi je ne crois pas qu’il y ait de bonne ou de mauvaise situation. Moi, si je devais résumer ma vie aujourd’hui avec vous, je dirais que c’est d’abord des rencontres. Des gens qui m’ont tendu la main, peut-être à un moment où je ne pouvais pas, où j’étais seul chez moi. Et c’est assez curieux de se dire que les hasards, les rencontres forgent une destinée… Parce que quand on a le goût de la chose, quand on a le goût de la chose bien faite, le beau geste, parfois on ne trouve pas l’interlocuteur en face je dirais, le miroir qui vous aide à avancer. Alors ça n’est pas mon cas, comme je disais là, puisque moi au contraire, j’ai pu : et je dis merci à la vie, je lui dis merci, je chante la vie, je danse la vie… je ne suis qu’amour ! Et finalement, quand beaucoup de gens aujourd’hui me disent « Mais comment fais-tu pour avoir cette humanité ? », et bien je leur réponds très simplement, je leur dis que c’est ce goût de l’amour ce goût donc qui m’a poussé aujourd’hui à entreprendre une construction mécanique, mais demain qui sait ? Peut-être simplement à me mettre au service de la communauté, à faire le don, le don de soi… \n",
    "\n",
    "---"
   ]
  },
  {
   "cell_type": "markdown",
   "metadata": {},
   "source": [
    "As you can see the cell doesn't disapper completely but it takes minimal amount of space and doesn't distrupt the flow of the document. It's especially useful to hide the code cells.\n",
    "\n",
    "You can expand cells in the exact same way, by clicking on the <span style=\"color: rgb(33, 150, 243);font-weight:600\">blue</span> line on the left side of the cell. Or you can also simply click three dots icon (![Folder Icon](data:image/svg+xml;base64,PHN2ZyB2aWV3Qm94PSIwIDAgMjQgMTYiIHdpZHRoPSIyOCIgeG1sbnM9Imh0dHA6Ly93d3cudzMub3JnLzIwMDAvc3ZnIj48ZyB4bWxucz0iaHR0cDovL3d3dy53My5vcmcvMjAwMC9zdmciIGZpbGw9IiM2MTYxNjEiPjxjaXJjbGUgY3g9IjUiIGN5PSIxMiIgcj0iMiI+PC9jaXJjbGU+PGNpcmNsZSBjeD0iMTIiIGN5PSIxMiIgcj0iMiI+PC9jaXJjbGU+PGNpcmNsZSBjeD0iMTkiIGN5PSIxMiIgcj0iMiI+PC9jaXJjbGU+PC9nPjwvc3ZnPgo=)).\n",
    "\n",
    "Try expanding the cell below."
   ]
  },
  {
   "cell_type": "markdown",
   "metadata": {
    "jupyter": {
     "source_hidden": true
    }
   },
   "source": [
    "![Nobody Expects The Spanish Inquisition](data:image/jpeg;base64,/9j/4AAQSkZJRgABAQABLAEsAAD/2wBDAAYEBQYFBAYGBQYHBwYIChAKCgkJChQODwwQFxQYGBcU%0AFhYaHSUfGhsjHBYWICwgIyYnKSopGR8tMC0oMCUoKSj/2wBDAQcHBwoIChMKChMoGhYaKCgoKCgo%0AKCgoKCgoKCgoKCgoKCgoKCgoKCgoKCgoKCgoKCgoKCgoKCgoKCgoKCgoKCj/wAARCAF3AfgDASIA%0AAhEBAxEB/8QAHAAAAgIDAQEAAAAAAAAAAAAABAUDBgABAgcI/8QARRAAAQMDAwEGAwUHAgUDAwUA%0AAQIDEQAEIQUSMUEGEyJRYfBxgZEUMqGxwQcVI0LR4fEWUiQzNWJyJUOCNFSiCERTY5L/xAAaAQAC%0AAwEBAAAAAAAAAAAAAAABAwACBAUG/8QAKBEAAgICAwACAgEFAQEAAAAAAAECEQMhBBIxQVETIgUU%0AMkJhcYEj/9oADAMBAAIRAxEAPwDye8vfsGnsvFCVpgA%2BdK/9Utx/9OfwqXtN/wBDa9Y/SqeD6TRI%0AWv8A1Q3/APbn8K3/AKpbwfs/Hwqqz4eh%2BNb6TzUJZav9UND/APbT9Kz/AFS3Obcn6VV4EEgnHWtx%0AHUA9fTzqELSntQ31tzPyzW/9UpAEMT8IqqHk4wMfD0rakgkiJPkPxqUglsT2rQeLcnEg4rY7WoAI%0A%2Bzes4qo5VMmCec4rogAA8586lAstv%2BrW9p/4U4%2BFdJ7WshAm0zmqdx1x0MV1I4KYAHNSiIuH%2BrmO%0Atrn0iK6Ha23UP/pT9BVMKeQpMR5Hge4rav5QROenWjQS6o7V2xj/AIePKYqQdqLQgHuIHwFUVQg5%0A8UnHrWxJEjPxPNBoNF6T2ntlKT/AifhXSe0tvyWAB14qhyoGRxzmukmN0kifwoEpF6V2hYKie4Hr%0AxXSdfaIBFuCD8KooUQROMRzxWBxYEbjmpZEXw9oGNsC3yeOK5PaBr/7Yj6VSEPrBjca6%2B1PAgkg9%0AQKFkpF3/AH%2B1yLfEeQrka81MG3x6xVMbvHQBBEHrXab1U5xUslFyOvspMG3Ej4VwrtC1977Lj4iq%0Aci%2BPCkAVKL0EkRkc5qBSRbR2hZ4Ftk%2BcV0jtAzIBtzB%2BGKp/2tIKSTNSovELKify9%2BxQeiNIuDHa%0ARlh9Lv2cQMdMCo19oWFuqX9m2ySYxxVVcuWVNpG4wea2pbSf/dBj5RUuwNFpHaBknFuPLpWj2gaA%0AP/Cz8YqtBxJyVJJ4%2BArrvm1GFEAdc8VApFjRrzSwYtsRyYxW06%2BxvTNuACecYqrhRkEGBz8aIbdb%0AyVAZyCDyfOhbDRbhqbaHClVulaCJCkkUO3rSA4tKrQ4wOPfWkVnelha4X/D/AJgrpWB5KiEFUk5C%0Ah0qdirRZ29atySlVsI/3YqM6sykHdbpEnHFI3DtKhtHw9/KujKkbSDBzPn6ULZKGitaYCVFVvATn%0AgcVp3XGTCxbp2npikj6ArcEgCeRQjiVEFIO3zNWsDVD9jXmXroI%2Bz45JxFSL11hpakm3BM4TiTSH%0AYlKEGY6knpQzjfe3QJB4xj350LAWc9o2Bn7LMCTxWN9oWCrFqM9DGPjVbctXUCXkqSMgmPrHvqa7%0ASnMlIVjgnrU2Syyf6gZSkFVuN3wFQXPaBkZFv4ZnpSINLdWEt5V0FY7bPhxIUyoHoFHHvmoSx4nX%0A2uBbAmT5V2dbYlJVbmPWIpG1aPIAC1JSCBPGPfNEdyhmVLG88pCjx8anYhdW9Ttbe2C1sBSiJAIE%0AfOhUa206sLLCCOJEQKqin3XHQt95BA5bBn3/AIp/p9g7fWijYtoWonKUL8Uz5UOwS69nl2b102U2%0AqnjEltIBJ%2BFG2DSr3Wrj/gk27SEFSsA7fSKA7H61b6Reup1RstEthCFbOvyp1aanbp0/UnwsblJh%0AKSMnnNTsFIoT%2BvtJuHEC2A2LIMVyjW2lOAFoQT5c1XHC8FK7xC0kmansRL4BOZ4oqydWXZa7ZTSV%0AdwMjIx60kc1W3SpYTbCAYnHvzpqVRbLyYKYA%2BNVR1ACyCZJPU0baJ1YzVqzEf/TQDxxWjqrAQf8A%0AhgDScQZA5Fcg%2BA5Ag81LZKG51ViYNsPwrf73YUQPs8njpSdSQpXhVHnXAMKgijZOo6GrMEQLcE/K%0AsOr2/S2/AUkMZhQmazAQqSPrzUslUOXrtFzpt0422EQmKyhLUpOk3ecFM/hWUbQBH2l/6IzwOPzq%0AohJyOtW7tL/0RrHlVPTz0%2BdWAYcGtg%2BdbBI8JkfOtynBUJk/hUIZvM5I%2BP512lc56jzOOff0raGC%0A4oJb8RPQefv9aLY0i%2BfeU2wwtak9AKJANSRMhR%2BfStEwJyDwM8e/1om5sn7Z0t3CNqxyk0OhCsSA%0AIwTNQhzulWR05FbT4jnk/j/muy2fCQhQHl5V2kELhSTIHAH4UAEe6MHM/j/mtTiQc1OpIJKyhUzE%0AAc1GU7SoEA9R6VAkaVQYBx0J6V1uj0A/D3iuRAIn8RUqQkKAT%2BNCyEe74p6Z6e/fproBEg4x79Kk%0A2x0IA6VhSZHh5waJDQJ2pzIJrSlyqIHP1rZ4BA48v1rRBUQYwD9aAUYn7pUcAZz0rZcznH51iTkb%0AeOtbdTtODxxUJZoKG4zyZkeVYTuOM9K5%2B6ryj0rRwDjkyRRBZJuHHMfjXKDAnkRXEHkiSeawTtj5%0A8UNEskThWTmJrSeDyPOuArAj708kV1MTk%2BcHp/ipSDZ2T4SqK6SQQPEDj6e/0qGRuAJIHXitkzu6%0AHjPlRoJ1uSUgDKvUVgIIjp5mohIM1JuyDt/vQoLOyoBSSMfE8V02AolKjA5PpXCEKUsAD4Uw0%2B0u%0AtRuvsmn2rtw8rhLaCSPU1LIk2Qrf3hLRI2p4Kal0%2ByvNSdDVgw9dOf7WUlahPmBxXq3ZD9lFvaMi%0A77Zvd02nItWVjef/ACx%2BRq%2BWmq6PobPc9ntLtrQbY3BsFZ/%2BXNInkjE2YeFky%2BI8m0j9kvajUMvN%0ANWSDB3XK9pP/AMeas1t%2ByK6skrWjXLNy5iNpbJSD8Zqz3uv3d05udcWsny5qNm6cd8JlW7nymsz5%0ASXwdSP8AB5Grs8W1nSrzR71TNzKXxzJn3/eoWrstpQl0jZnNe4dq9JTr%2BimT/wAS0nCjnr8YrwjU%0AGV2j3dOgBacEDpFOx5lM53J4E8D2FXr5bShTZ5MYrdok3d2hoDxueEY4PrSxwqSG0qnzAGfoKuHY%0A7svrlyTdW1kEMvJ29%2B94Ugeg6050c52JtTaatitlx5O9JyI5n0ofSba5uLxlVuhZUCCVQePcVb7r%0As9ouguqev7w6jdEnchJlE/n5Utf1kwEWbLdu2DMITBqrkkMhhlPxHfaNq5NykADu0jxJB6%2BtVl55%0AKXSgmPMirFc3JctCsk96RyrNVhdu8%2B5vSklR/mME%2B/6/Udxj4s47ZiHlgqCSPDmYjrTbQdVUXu5u%0Ah3tu6naoRkTWNWlvp5Dj0OqPKCOlPNTb0u67PC%2B09kW1wjCmx%2BdWTEOImvLT7LdL2O940o7kEmAa%0AiNrdOsqeS3uT5gT86I0K7TcpVZ3aUqDif4aj5%2Bhrq2ubrRLwttjvED7yVGQR5ULBQsZf7hOwoKD1%0Axn3/AFpno6n%2B9S9bupJQJSJ2z8DTDWrW21Gza1C0TtSoQ4CPunyofs6whD7qF7AE%2BIFeaDConpvZ%0Ai5VfWinNauNPAIhKj4lg/wB66u2NMTY3SP3owpbggCOKQMLtlthUsoPVMV1dXFnb2y3XlspSBhOy%0AN1RIvVCntVoLeiW1qpOqfbQ6JwmIpJYQq6b2nE5%2BFMNM7QNXxctNVSkWi/8AlLSMoPT5UHYsJY1R%0ALfeJcQV4WOCKuqAy3PpCbdRMjamOeKpdmG73UVMIScZO0zVzvpGmXMAjakweoqlfs/SF6heFQlX%2B%0A7yqMiQRqVuLMo8ClFeIHnSq8u2LV0NrbUFnmTz7/AEq6arZv3Go2rLQTtOd0cVSO3dv9n1stTJ8w%0AOaiZZnT90yyMoO5WY4qNnUrdav4oKEjrM0mcUt3aomSMfGuQlSVkgSk8T%2BdWoo2Ml6owFkJb8A6k%0A1h1JqMNTu8jxSlLa4gp/xW9o2EKAnpH6VOoHItenXiF6bdpDY28TPpWUs0fGn3ZP1j0FZUoHpN2k%0A/wCiMx6fpVPJq4doxOiNfL86p0GrgNpE812BMRjqa0hJhQEz5edbEyOSofgagAhJUlRMx5EedN9H%0A7RXFklYCUqJ/39KSII/lC/Qe/Q/hUcGMHpkR1ohG%2BrairUV9%2B5tSsiARxSpUODwmJMce/StplTZ6%0ARIwPfnUShwR1FQgY2tZYTER5VyXFpXgEHn1rhsEIVuweT1reQCqT/ioAmdcXt9QIEVEFnYOsmYA9%0A%2B/rUgH8JKiZHkR5VCUDvMmACDioEkIUSc5iuP5QTmOlb2wZI9MdRWm07sAGOlBkRm47pz9a2mQAe%0AQOvFThmWyogiOlMNK0O91BJUy2pLIyVkYoWWSFEKKwYEjkVsDeojEEYr0Tsx2Vsf3lb/AGq/Sd5C%0AFB1uUGekZpj%2B0fsXo/Y3tExYPN3Dzjye8Hj2tkT0HNSkCjylKVJXJ5PIn8fzrEbiknBH%2BK9D046X%0AdqesLu1aslpTLLyDuE%2BvpVe1GyuLVZTcMMusqHhdaTKT/T51LA1RWlDBjCY4n37itpmYBHA6cUcb%0AVJC1IM7cqFRPtwEKzjPyqWACIIjzFbAnECa6I3LKhkE8dZrRBC5AMTUQTkfdPlWEQBPn79/3rtUw%0AREHgge/SuQmR4h6yKJDkDag5OeldLkL6gjrNZwRg1pUwfL1qWFG/OR8vLNd7hsx8JqMJM4mrf%2Bzn%0AQm9X7QNC5zateNcfzekxVJT6rY3HBzdIZ9g/2eXnaJs31%2Bs2enIE94vCl/8Ajj8a9X0680nsnaJY%0A7N2yG3Nv8R5SR3hPx9/1E7Q6ubps2tmlNvZteFLaBtH1HNVklZM4k5rDl5Dfh6Difx0fZDG%2B1F68%0AcKllSyTya5bgqSZIJzQ7SfCCrAP4UW2kBXUH41kcpP07uPFGC0dQVHCc9aIYVCp49PWuUNrKiZzH%0Axo/TdLu794Jt21K/7ulBpmhSUVbCNOfcCwpEHYcyTxSLtx2Ovu0V3bu6JbFbqz4yoQE%2BpPlXp2m9%0Al2LC3Lt%2B6ncBu/7cVXO2H7SrLSELtdJaDj4BSViIH9abBOG2c3kzhyf1gr/38CHS%2BxOldh7Rdxrz%0AzGo3rgBS0rKUH58mq52o7cXF24WmXe7Z2xtTiOlVbXu0d7rFwXLp1S1EyEg8UkWXOVJUDOR5VpU5%0Ay9ORPBgxP7CX3CtvcuJB%2BNQJCyQmJkT799a4RJSSPujMflx7/Q%2B3s97QUTnNMjH7EvPFaicrdDzj%0ATKSdhndHWm%2Bl3KVWr7Sgne2PArrVfc3IuV5JI5FatnltlwiCFiMGr9foy5c9kRWtxwkqUfEeswKn%0AKlJK2m5KFDJmhQ2U7iBzW0qW2TvSVTVqZkbs7TvASpPKCMET6jNPtVKXLllxsSotwr%2BlIe%2Bk7gDP%0AAg9auXZrsve66lt1aktW6P5jyfhQ89Alfghsrk2YdtlhSmVpOB51rS9QXpipSlKk5w4On6V6ez%2Bz%0A/SSpw9484v8A7jImhtW7H6Czb92XFoeUYndJB9ZodomiPGyPaiVG27QvtW2/urcJVwSml2varcau%0A2hDiWg0g5S2IJpx2s7O/u20ZRarLrQ5cGfwqnbCmeUmja%2BBU4Sj6iMbwsJ2wY4iMU50ha1XVugmZ%0AUM0s37lkqBJiDIppo/8A1e0UnHinmaNMV2sv2tSnSrmOAmJiKQ/s30y5abuLp1soQTCZHPNWLXgU%0A6XcrUMc586K7NPm50RhwjafukHFVk0hkUGNMGRjJI4H4V5v%2B1KxW1qTdwGyEEQYHFep942yhSnFh%0AAjlRiq1qOoaNr9m4xdOhsNEoSVx4jSFPYxx0eONmEiBIHMVJtWo4zNGa9pZ066UhDqVsT4VpO74C%0AgEKA5JJ/OtcTNIyIjAzxNad54OakUpLkGDNcOiepgHrVrKtDbRwRpd4np5x6Vlb0aTpl5Izn8qyo%0AAk7RrjRGoB/l4x5VT1eFQ6RVv7RY0VnE/d%2BeaqSgCsjgdPXNWAaQvYTGZ49KxDpHx5mthAgnMcE1%0AikhKTjJJ%2BNQh204Y%2B6Oa4LgXMo9MVIGgTAThQx9ajcQEGOKJCdpaA0rwA5gYrkOIHKZAxWmhuZcx%0A8OtRpGYgmRJxQIG2zrZZXubBA6%2BVbUbcGVIJnpNDsJJQsDFYhEAqVOfKoELBtkpSBuiKjUlgqACj%0An8K0QFAdPOsWkFI8%2BlBkOVpSSdpJqNobPEDkZiploCCBGIzXAEpWQJzANSyIun7M%2ByF12011pi3B%0Abs2zNw6rhI9DXsfb2y0ns72UTYdnVlfdEpccKZk/hVH/AGUovGrRKApVtbq5UDtKxVi7T3aG7V%2B3%0AWSUR949fZmqtWMRSOyustaGtTi20XClQpKXOEkdQaI7b68jt/eW41O5SxqDIhlceBz0IHHxzVOeU%0Af5VEiTBPNBuJDi1lR2qPJPBo3RZUP%2BzvZnU39UQt62UqzZwu4SQUJHQg1Bf3Dtrd3LTS99sD1yPm%0ADQlmt8IcFvdPhkiFBtRAJ%2BVM9I0bVL1QXa2i3EHBKjANU/2WA/tmmABTdgWHyIV3ajsV/wDE9ard%0A8tJ3lMAA8RxVq7QdmrzSWku3luWG4woGRVUW0Vd5AJSetHZRpAcSQqDHECpRBA5A9%2B/eOyEnaAB5%0AVmwhXiOQasrFEK%2BMDM9a1wckgeldr8WAmB0nrW0pG7qehxRDRxAgx05rSkgqUMxE12cKCoIHBxXJ%0AgEhQIqEs0hIURJk1c/2a3CbfXUoKSveI3T/Y1T0IGJwfKmfZ1wt6vblQLiisR9fgaXPw1cWVSPa7%0A5soeWkHcenuaWFsTjieTT7UnG2UIKyUrKQQCKDt9JudRclpJCTzjiuZOOz12BroL2y33gSolPnTf%0ATbAvOhLSSpZ8%2BBVl0fsdbtoaVcqL7m6ZGB8qthTpegWaX71xtlIGJ9%2BVBJlpclR0lbE2hdjkLSHt%0ARWQgZ7scH4mjNf7T6T2Uti0FoDkeFpHKqovbj9qRTutdHTtjHfTk%2B8GvG9Q1W4u7hTjqlOKWZUSZ%0An%2BtMi2/7TNNt/tyH/wCFt7a9vL3W091uLNsmdraT%2BdUhxSrlJUTAUYJIo6xT321KrbvCsgARVpa0%0AJm0Sg6mS0kiUshMq/tTccVezByec5LrDw83WC24CmQ4maNaQFAOKWuBlRj4VaLXRWb/UVuNpUhhB%0AyFYkfQ0e45aaHqjae6R9kUPFuAP6VqpHJcpN3Ip7iWu6CmnSok8qploo7xhS0qmMbf1q39qezWli%0AyYvbVtKWXB59fQVWtNs27N8kSUnhJGKAJP6E2rFs30A%2BIJEwcUGlO1JK1EdIHQU3RbNuXtw44ySR%0AwVc0K99muHZaBRBgz1qWKb%2BwErkCJ5x6%2B8VpK5SQVH/5daJuGgmAseEZE1GlEGIE%2BW360bClZJp9%0Aqbq5atm9yitXQz7/AL17D2Z0hdkgFDy33YCQ2gxtPqaRdhdDtrazVe3qkoeeA2GOB1/WrTaXbdvK%0ALcGD/Oo5JpGSTO5/H8ZSdtBrhcaQlCFBK%2BoTnNQG3skkqLKFrVyopnHmKHLqgTPiMTMUM%2B9kFZIz%0A1MCstnpo4opVQXcNsuhxranaehSPpXnfbDs%2B2zdIeswoAghQxV0%2B3hTpRICBgQOaJdZZuGl95kKB%0AAxMetNxzaZzudw4TVo8WDeIK1EpPFNtBUFazbR94qAxRXafRzpb4WhBKVdYrOyzSTrVqP5lKnA4r%0AYnaPJ5sXSVF57SKI0x8nO0VRmO199bspQgp2oEJgDFXztOAnRLpShEHqK8hxskiYzQlFP0SpNeBV%0A3qt3eXE3d04uTJE9Izz8qFeU2RjYVn6e8fjz5cd2CMcVKi1UW9wbMdDVVD6D3kyB6IKVFRHGTznr%0AQDgTgIkR%2BFMHhgpWIjoTz7zUS20BqSCFUyOirB2QCAoHipVgJT86Is7QbSpSuOlTu26AyoETGauL%0AewjRc6ZdxMZrKM0xCBpNzAGAR%2BFZQqyrOdetHXdFahEiB1jyqnptnXVhtpG9XQCrbrzihozUExia%0AqDqlSQFKgZwYq6IFp024bJU4ztxGD7zUDjRSuEokDkj3mtNXL6wR3pM%2BZrTrrkkq3ZGagDphp1SF%0AFCSCMQPfxrlxpW47k5JzPsVNavrSpUSDHBPxocPqSojgVCEtuh2FBts8evv/ADUCkLCsoIIGcTRd%0AtdLBUAePwqA3LhUSSc%2BfWgSiW0ac7pxWwgH0qNKFJVCpgcTNEWd4vIK1DPTpRH71dSMuZBggoohS%0AB0KMKyDHFcK3Eq8iYow6gp0ZCM4nbFRBzdHhSI4ge/ZoMKQOokKOMcVu3ICiVJkdRXa1hTkqwmMg%0AVwVJSV7Z29PWgE9W0btK1aaRbIW0BAGAc/KvTdI02ytNHe1rtOtDNk%2BgBDbh8R9QDzXh3ZO4tba5%0AZvdRbcuGWspZHVXr6Ud281DVu0V8l28uIt4/hNIVCUDyA4oMshH2huLM6y9%2B6kr%2Byzjd0pZ3CnHt%0AiW9zizwa6Fu5bXCd4gAYjrV5/Z5pSLouX60jc3lE9KrZZJhHZvs9baNai/1xMqMbGj4hVkT2vtmU%0ApTb2ylJ/lCUwPwpRqlnd3d0VO71NJVhvkGphZXV04gPNNoZQPC2gcUqcvo0Qhfo77XP3er6M03a2%0A6Ay6ncoqwma8PubdVq682rhCowMfKvf9I2s6Q4y/LjK5SobuJ6ivJO3PZi47PXReCS5p753NupxH%0Ax99KmObfocmNJFLc8BAUORInpUa5IG4ePr1mprpMKTBkkYNREAETiOhPFaE7MUlsxSiQQcEYiai6%0AJkc106gpWDuI%2BdaUkgEiSfzokNqEZBGajAJWgcT1FdLJO2JOJMVqCogjcT5VGSggtkDaIJ4omwQg%0AqQpxJUkKgp6k%2BXrRnZvQNT191xnSrdbpbEurOENDzUqva/2a9luzehK%2B1X4F49b5Ny9HdJV5ISee%0AtJyZFFUzVx8Mpy0hv2N7OPX%2BjW93qVq4ygAd22oQSPhA/LpTzVtQtNDYCXAlCgCAgVXe1v7Vrdpx%0ATemNhwxAcJx%2BVePa/wBprrV3d9y6tThyTOKwO5v9T0eFfij/APRnoes/tMdtrd1nTAkOLwtwmfoP%0A7mvMtY1%2B51B0OXT63VzyTNI7i4U6jBMx9Pf6VFarSh9PebiAeB1psMP2Z8/8j1tQ0Gd53p8ZAScZ%0API9mjbRhx5zY00pRV90AZP8AeitA0R7W7xTVmO7TwVcADzr6A7KdidJ0myZ2rDjx%2B865mD6U%2Bow9%0AOa8mTK7Z5x2Z7Kvaa81eaiEkoIWhs1d%2B3ekN6ppLOoNBIeiU7gdqcfQVx2ovGLnWQ3aLMNDaVGBN%0AWDT7pr/SlyytxBdQk9YI%2BmfxpTmhqxNLZ5HalbemXD7w3KB%2B951We0DybtKFL%2B7EgzmasmoXaE6F%0AcArBBUST5%2B/nVb1pkjRbO6CyG3JAUBMirxdmPNSZaez1wrVeyVxbnxFgSn1qu6fcBxaUEhIGDA6i%0Aiv2fXQRbajbkkLKYCD%2Bv40E9aLsLhpCCDuJVHWatZmbLQhLdwhSVtgmI2gAbqrWrdn1WzKnbNB7s%0AqyByk%2BxR6tRSy6w9u2p6g9asLFy2b1tLpJt3xBjpRTKnm6O9Q6G3G1FkYA4IphpulLVqLCVJV9nU%0Ad2%2BMCs7a6U9oesrQ6VbHBuQeJ9fX38KJ7P6stqyTbPjckwULnIoS2jVxl2lsuG0mEpVhOBB4rEqg%0AbVE88Ggu%2BUlIUFQAOY4oN%2B5VMBRSOeazSWz1fFqESw214yUlOCqcE1C/JdBEbfIHJquNvELBSeeZ%0APFWns5pbupE964pFuP8A3OqvhSvxm18hRWwEhfeANNqW4egyZpwzZ3iLbc5aPpSepQRXougWdnaW%0APd2rSEqBy4oSon40wkLUoOJKpOPM5%2BdMWNfBhyc23TPFO0FuLvSlJU2qUHBgiKq/ZNqO0tuhWVA1%0A7l2p0Ru/08llruymZSE5P0rx3ssyLfto204DEkAnAFaYWkcXmSjPaLN2ySW9CuiBO44npXkimSgp%0AiSojnrNeu9v0xobskABfU15i0hLj4SkxA3E%2BlNTZyK2Q2raWUoKxucVg%2BlFrdU0sJkADJFcjxObz%0AkjiDWnULBVvUZOeKKI6AL6FLU6gbYH1oMy63tgyfOjnGyoqCvCT%2BFc6faJdecAcSjYJz1o2VYsbd%0AcJ2I6GPKpnUvqQAv/NF2bLRecSlROZ9akdYcW5IPhjBmjqiKJNpbSv3beSMR%2BlZTCxYUjS7wqIMA%0Az9KyoirTF%2BvOBGksEgHjn4iqhcEF1XlV2122ZXorCnLhKAIxB9Kp71s2HdqX0wfSrooyO2WkqKVG%0AAeIFcqdIKgnI4mjbSybLs/am9vwNDv26S6spcETUIc2rie8VMEQelRqUjficeZoq1t0lSodQMc1D%0A9kO7/mI%2BVAJu1SkrVAMxUSijaOefOi7S2IcUC6kSIxQ5tVSTuSRPnUoiOmEoVuBJiOPOuwi2KhvW%0Asp9K3aWbiiQVBMjg1penvgSdpHTxc1CBFu3bEwla9hOeMVtSW0qhKzHmajtWHUBX%2B1XMGui3kcH4%0AVAkakjvS3J%2BNchuAYV6V0tJDgE5PFdsJClKkyOvlURYYMuIbaaLTzon78mPpW7zU0vABoq2g49aF%0AKghjaJHSKGSEeIzCvjRIHLuFOkFZMAQD0Feifs2vG7W3UzIClGfhXmTXjIStUJHWneiX7thfJdBO%0A0dP1pckMgz3W3XbuCFCIwOtGFllD24zniqRZ6uh9lt5A8JPE%2B/Km19r6RZw3MxxPFZZJo6ONqiO%2B%0A1Jy0cft2Wit05TuGKW6sl7WbBqz1G6GxIP8ACEkJpE9fvuvAq3KJMH1o960uxaqu0bYSMjr8TQTB%0AkaZ5jrzH2a9UzugIOIM0Cs74SSfKR0q3dsn9KuNPt1WVupV2f%2BY8s%2BIn68VUAISBISFDjmff61oi%0A9HOyKjSyCSJ4rgwEACT0z5V1tJUCZkcGi9LtkXl0hp59DLM/xVq4SOvxpqYtJsXpTIAVulZwBXp/%0AZP8AZXcXNuzq3au4/dOkDIQ4drzo8kg1Bb692d7LObez9kLm7/8AvbsBagfNKSMGqz2h7S6hrjyn%0Ab%2B6cfcUf51Ej4RxVJSNmLAnuR6T2h7Z6XZ2o0ns1bC2sEcQYKz5q/wBxqiat2nurtIbccV3QwEjC%0AR9KrHfuLkb4HmKx2BB3Z8iaQ4dns3f1McSqJt%2B9cWCCoQKhQsBYU5JJyBMVGrjOJOK3sUEp8/WmR%0AgjFk5E5P0KS6F%2BlGabYm5vEJWSEk5NApQqdpirT2eaStxME%2BnrRlrwrjTmz0nQLdrTbJDdsmARlX%0AFPbjtAizQhC3IUP5Z5pfpzO21TKgpRPSq/28dRpjraiyX1FPE%2BEfGsstnQS6o51G3RqN4q4sNQW0%0AtfTYVD4TRelMo0bTLt3ULpS7wpI2Tgj4Yqkp7aaha913VuhO0jim%2BvXN6/p4udSPdXDyZS2MKI8z%0AMUYwQieYH7SqWjs424hatjxjdPNA9q3SnTtIs8rARJKDz9fjSl%2B8un9NZsn5LCXMJHPzo6%2BFxqNy%0A0psBKUN7fOflTVGjBklbGXYJlCHgrfkiccCf8VrtE4WdZKgZ3YAT/LPnS/T271alfZ1pSUCN84Hv%0A36QPvLccR3y9ylfzD37/ACNMTZIt5VxauoCVApyDHPvij9EvU3tjcJcUoPMplMY%2BlIW1XAfUpKoB%0Ax5/OubdRtLnvW3FblGDPX%2BvHvqerLF27cXY7R9mdJ1MQq6YHdujqTjJzmqpoziE3aUkqxyPKnujO%0AFvTr5hayQobwD51XrRZCzKiMwf70as1ceXWReLx1JbQUGARxz88UA0Q8o4gAc8j3/WuA4ostha4O%0A2B1%2Bdbd/5jDDSv4ijB4EUl0egx5P1GHZ7R16zdlCdwYQfGTivV2mWrRDaCUgIED%2BXFB6DpyNF0NA%0A2w8uSqMSfIVWdbY1TUn9weDTSZgbiQPwoOhGTMz0Kx1KyQpbSrhHMwVCT%2BNHo1OxGO%2BTEczzivBt%0AU03UmXwbO7WpauVbjn6VZeyun3r9spFzcL75GUncTu%2BNVM/ez1G91vTGbF37Q83sUnZsJBKvf514%0AloKW3O3ClISQjcSnjiirXs/d6nqL67m5cUpsEhAJMfKlnYVpTPbt1pRVgGQT8RVoyZmzPRaP2iwn%0AQlE5G4kDoK8xZ2RvSfvCK9P/AGnI29nm%2BgUomPSvMQztsElswJwZp6ZiYfotqi51G2bOPFJimnb2%0A0Qi7ZuGEFAIgxUPY1SWe0NiXQEjdkqqzftDfUhx5pbQCP5CcVZMo0eXvDxzOB0qJljvlOSraOeaI%0AUJQZV4hUFs2FKdC1QInNW0wL0l01lG1zxDcOT5106wVK8Od2Sa1orUMrKuZijkpPfgEj9Kjf0X2T%0AW1spvSLxSlzAPT0rKnSCvTryFSADgfCsoqQp7ZX%2B0v8A0RmOm386qjp3qTMVb%2B0YP7kZPJBH6VWC%0A0HFgmBHIFWTKMHYB7w7iRWOiFYMz0PNTsW6g6rbEdKYJ05stjcIURmKsQUMBRdAIMVpxXjO2QJmP%0AWmn7vLThVjbA58qVuoIWr8MUKIYyo7wBPBwK1uJ6gTU%2Bno3LXjMcTUIRgnB/WoQ6ad2gg%2BWK13yo%0AiTn1rEgieB%2BtcE%2BKcgioQJtFGVgkx1k0YFBIhIkfGKAtlbUkRknmjEpKk7lAlQ49arpF0yJ07nt0%0AGTzHArbZgqA4rp8CQr61EmQtaRxEzRLbQ702409GmuMXVmty4VlLyV8D4UpKZcgAlKiYTFdtEp2n%0Agx0qZ6WGkvlA2nigg7OrK3KFkvApHr1o9UggNplJHNSaFp69beU3bqh1I3FJ4I%2BNTXLQsr1Vs8JV%0A0zxRAhhotzcLUm3bbwPM1dGNJSWQt90rVHFef2t0q1WSkk%2Bs1Y7DXiUhCpyDk9azzNeGmW6x0W3Q%0ApDwTKfJXSnbWntotL4rUNymyEz515472ju2WpQhG4eZ5pbe9sr4JiSCRBG7jpSUm2aZJUUrVj3d4%0A6yshRSsyaEkKAAH41NqLxfui8QNyznGBXA5Qdg%2BVaILRgyK2cHBAM5rgmVbZ8QPPlUi4U7MTXCeC%0AE800UcKCNxzPoaxSUyIAzUmwwIVim/ZLRntZ1hm1baWtuZWoHAHxgxQ0iyt6QrhaURtkxPwqNauD%0Az0EV6Z2k7M2mnvKatZKBjPT8ap97ou0gCIP8wFV7Ib%2BDJ9CIJLkf91NNK0i61K5Rb2jK1vK%2B6lIy%0AaId0pYcaSy2VE5Jr0js52H1FqxRqej3TTzgTKggQpHzmp2RV4pL1Hl11aPafdqZvGy06kwUqOfWj%0AdJcLTySRiSCPMdeav3adtWu2C/3owU6wyID05WM/eGI%2Bprznu3mQlDqACDwDQkrL45dWexdn7tDl%0AugqGxMiZxH4VZbtm2e2qcI29Z6YrxHTdXcbb7lJgf9uD%2BVXW27TqXbIZalsxBAMA/hWSeNrw6UMk%0AJLZcL7R9Cun2CpsOEEfylQGfL5flVC/a7eMt6qzZtrHdITCW0jj6H9BTiz1dv7Qh1aArZ5mfnEVR%0Au2j7t9eLu3XCpaVYkxA%2BZPs0ccpLTEZYY60KbZaSd5A2pPM4otd4SlQaMIPPwpSxbuXCoMIETzjm%0AmCbd1CNriUkdCTitC2c%2BS2HO3oY0bum0wpRyRnFLGFJQyhxZUrzHM0XcksNttIQCs8lWYqBr%2BE0t%0ASxM/yioLaAbi%2BlxQYQEtjqTmoWXVOEqgkn1rfhWlUJG7p8K7t0AkEgJSOYq6CO0XG1tCuBEVC1aK%0AD8pGT4oFcuq2Nle0CMwM%2B%2Bac6V/GQhSkeFafnVWrGY5bOWHC2FK/2jietdaUoq1Nh3dB3T5T%2BNc3%0AQC3FNMpwDzRugWQc19ht0kEp8PrWeUTsY5Oj1dd4DbJCjIjNQWwS65sUBtUfpQFyUtskREDAFCd%2B%0A4GgpJKQrAPFUsDHlw3Y2oWDsLx4Fd6B3b16ElaG21Dx55qqK1SyacLby96lcqpalBGqIctX1s2w%2B%0A8C5k56ChbBpHpF87ZWH24tpRASYI4Py%2BVeZ/s6Wl/tncPqBzJBH50T2hve60q7dQFqSeCpXJjrzV%0AG7Na7caVepftghLisSrxDPT8DTIoyZpo9U/anDmisg%2BZwa80bROntEp4MGOlWHtV2rOrWFsw9aqt%0Ank%2BJRmQqfKkzdqtzQQ%2BQUDfE9CPjTVSMd2BNXGy6ZWn7yVg1d%2B2Frc37bLpKlIKBHnVT7MaYvUtc%0AYaaThKvGPSvZbuxQpQTEpRgCrgo8PuNKvGWie6WUedL7RoqQ7ggCvadaaba055CgnAOIxXktukFN%0AyUDwg8jrRjYAXT1FLCikHCsxRSl924VFPyJqGwB7gxmVVK%2ByXinPXnzosYg/TkE6bqCz1BP4VlEW%0AaNuj3g2xA6fCsqKxU/RJrzjCdCZ3NlRx1qsqW1uBCDt9Dmn/AGiIGgsmJOP0pDpGxy%2BQlxIUk8g1%0AcWT2nclwgNwqJJmiW3TIhER0Cs0Y6za/aFFsAADnzpRc3AEBKoSk/KrWBhgUS2sFEK85n6Uqc7su%0AqK0nOcV1bXW5SgFEI8p/KubRSBcO9/JEcChZDlHdoUrYkmRGDQ%2BzkQSo58hmilKacuUhGMcCuHWS%0AGyfvE1EwkTbCFJUSVA9QRXBba6qcE%2BY6VLbKIK0dYmTUOUuK2nE/3ogOm0NSoeLw8zU7bgUBCSQP%0AWhm0kIUrjp8qlt/EhUDxE8Dmq7LIkeXkQCfh1qJCwSU5OOn50zZ0y6vnAm3Y3JOCroKstj2PZbI%2B%0A2vBxfBbTgT%2BdS0hsYuXhTW17tm1JJOJA5o55hxDYaWhUf7duR8uuK9BttMtLVAbZaQEAznJ%2BtZqN%0Am2pabhG3vE8GJqjyJGqPDyP4KRo6rjSrz7QwVIdIiPfvNFa4pT7bTgB75RlRHWn2ust3enIvLQJD%0Arfhdbn360lWoKYCyCpA5HUe81X8thfFaW0RaE0Lq4LS5JAgR1pu7pi29m0H1oPsw%2B0nXWVuyEKIG%0AMT/arz2suLbSktpab7193KEjE0GwQxtMqStIuUW63nAtDYOAo5Jqs3KFNvLS7IIhQPkPfsVZTdP3%0Ao3XB8A4jpUd9pqrhlKk%2BFYgyetVUo/I2eOVaKk%2BkFIKQQBiIrh23V3KQVeOcxTDUtPurYDchRbA%2B%0A90oErgAACaeqaMMk09nC0hCoIJBEio9wJmCB8KIcTuIJzjii9I0S91t1LNgwXCowVAeFPzoXQFFy%0AegC1sXb95plnkmCT0r1vQ7u17N2KLSxZeNyQN1wE%2BI/A4P4UTp3Zm10a2abUlLl1/OsiR9cUWLZM%0AkmNp4MZ8qTPJo7HD4Um7Yge7QNugd%2B2tJPRQmlinmbm5UAZJ4ExVnuWUqLe5IG05qudpbNr7ektA%0AICoAIxH095rNdnaeKltBIZA2JAIBzAHJ6flRlleXFg6ldq6ttxEwRiaUr0%2B8Y05bjSlOdz98JA8I%0A8z5VNo%2BqJvWe6uUgup4M81G2iqx45aaPRLJxztRarFwgIuGkyXxyfjxVA1xNv9oWw9lSCQc8ZptY%0APLaWgtuBKQPCpPNVPtXeuo1NX8UrIySqTn61eGRmDlcKK3EU3NiA8S2paBM/P3%2BVd27q0JkA4wYP%0ASuE3TzyCkpCSMCOaiQtalRO4KOc03ucz8Mk6Q4RfqDcxIxPl7/pQWs3heaLeQFRx0/H1q76RpVr9%0AkbOxCkLME9PWhe0vYcXKi/p7sEf%2B2E8/OaiaZeXGyJXR5/aBTLIdUopXPXr7zVkdbS/pIcEhSeaV%0A3rFzt2uJSEt/nTjsw8m50zUkXZShxIlA6imROfONPYKNhbWDAXtgQKQ3Ki3arhRKt3MU5DDgYIUS%0ADwSTmlWoNd22yDg5kk80N3spYBvhxJAJA60fYI714hE/7iffzoNpl%2B4fDVukuKX/ACpwfj8K9H7J%0AdkU2ln9p1FW55WEtDGPWi9IvDHLI6RXk2Ll2vuGUqwZKo4q4KsE6Xpza1J7595OCMbB%2BtMWbdloq%0AUEpQkYEJ5pl2lbb7mzLYSEhE0meRfB1MH8bN7kUJLG10r2kbfrQX246fqzT6YBBggdaaaqShnvSo%0ApEwAKq2uEOKC4EjM1WLNmTD%2BNHotrfG7f3CQCMqmrEmzau7Lu0GARmBFeOaTrjls6hguTHWrtofa%0A23ZaCXXwqeIzmi4r5MTkvCO67Jvvah3iLhco4B4H4Uw03sbc3l9u1G/2MJyGm/5vjTdOp2irb7Si%0A6Cd3QGPypNo/aJr96Oi4d3JAwPP8flQuKIlY27Z6Im%2B0cWlgmCwPCOqvSa8ddsHwtR7pwd0fEDII%0AI6V7Abh5ThKXcTIHlU7jLV4w6h5pJUsbSoDNFZosrk4c5K0eSsX4u2UsPkKHCSqmNjb35Dls0sll%0ACd8OGQRRGs9jH7VxTrB71qZETg1Pp14ttQQ%2BClxI2jemDHsUbT8MEsMoumH/ALPNR0601Ja7krYW%0ARAKuAa9KQ%2Bl1G9LgXPBSZkVTeyGnWr1tdJuEIUlRkTk0wb0Vy0CzpN13IPLa/EDjpU38FfPQbtVe%0ANsJeS4uRtPhHU15zZvRp9yoJJ3GRmmva9%2B4VdBq7KCuM7DyKVWaCjT3krKQCY2p4imxTAnYJZK8A%0ATnOcijbcFSyYOOaDtEpDY8YOeJo%2ByjcogpKSOauXHlu2n9wXqgSMHHyrK7DTjGj3gOElJj6VlBIp%0AJbKlr7Lh0FlSEnpn6VX9NbcTdIKxA6in/aS7c/cLASNsRx1zVPbvXUEqJkeVNoSWm4ClE7U7j1VP%0ANV2/aWl0gjBMzzFdL1N8pAAyeaHVdOLOZM5gmoQ709taXoyExInoa2obFKGRJ4rlm5WPuzmtquVk%0AncnPT0qLRKOWQTcbcjrI6UyLa1sq2GYxS1LywCdsR1FdtXLiSQAQPQ0WQ7s2lG4IUnBzPImt3CYO%0AYJmtC6cSCROZmDXaHN5ShKApxRx1mgRJs3aWb14Si2bU4vyTzV47Mdkm7VCLjVwe8OUscgUw0Jlr%0AT9PCQ0hLq0gqMZNMmbrvlhaoKEDMZHx/OlTyNeHR43DeTbJry6YsbQAJQ2j%2BVtIikb%2BpBbgUmTPB%0A%2BdJtVvVXN44omUDA9KjBICQOv4VmcmzvYeNjxIbp1BTpzJJ5zNdPXiglyFSTiPL50p3lMQII6%2Bfp%0AUilFRkT9Zz7/ACqUaG1VIm064KdWat1kJQ%2BdilKGB8aAu2P3dqF3pqxMHwKBxW7tJV4gcp6jmuXl%0Am9bbeUVB9vBV1PrTIpI5%2BaIlDpsbkH/aQDVueuk6g4yuMhIiD%2BFVXVW07sDYk5J5FO%2BzrnfswgJB%0AbGJ5qzVmTGqlsaMW5ecbTujcdyvUe4o%2B5UjvYbw3O3PWtWQFu29cvmQRCfKkr14raoJkk9eppDid%0AOMY1seLfRIBykeESOBQd1ptherSlxuFKPKTBpQLl1ahtwPICr32W7LOLYbv9TOxnkNjJPqRQU2gv%0Ah48nwVvTf2dvXlx37zpbsgRz4Sr4Yr0jRrGx0y2Sxp1ultIHiXjcr4mKy9uFJZAgoQjwpQRgelJ7%0AjUFpUB7%2BdR5ZVodh/i8cHbGmojc8ojIjj6Yn5UsW5JBAOIx1rBdreB3D4GcGuUkhBghST1Pv3FIc%0A5M6kMUYqkQOCdoRjrnp60p1xlL7YKUGUGSJ5imrhhWeR%2BFDvpDiCDEnrHFCLK5Fo50G6aOpMrugo%0AsuDYsxmIqvdqtCe0rU3X9MC12qsjoY8o60TZHZqKml/d5OPfs1c1MjVNAUlaYftcgjKVD9PxpykY%0AMmG3aKlo2rW94wht0d291zMnz4obXbZl11JWAF/7uZrq90Y3SS/bmHSZKT1NQO3LhYRbvtBK0Hzk%0AE1CnxQIl4qvAwW0JxBhIwPPFDosXEOKFuApSlyBOD7/WmKUTflawB4eZ9%2BdH6Hb99fELxt8Sdv5m%0ApaBHAmy32lq1aaTbONK8S43oH8pqTvBOc%2B/Wue5X%2B4xI2lK4OIJrhKFBKVFP3qU2/g6OOEapg%2Bta%0ASNWtVBKg3cASDyFVSdKt3bJy8t7tAQ4kYJOTXo6FkQRzPNKO0WnpvGHLlBCVAQQAfFTI5Gjlc7%2BO%0AU9xRTLSVOssKTBWeTzTJHY5zWVrcuXSyylWEgSSP0pr2N0ZJZXfXIlYMIBEges1ai8hKSSRHEg8U%0Ax59HKw/xE5y2IrTSrLS4%2BwoAUkQVnk00FwnZEBQIg7jUFxcpKgCNo4gDige%2BwrcCCPf6fhSnkbPQ%0A8b%2BPhgRu8fZQkuRJI%2B7zNS6pcpurW2WCEpCCIxigLopUgTC8xnitWzhvrJ%2B1KRLY3CMGhVmnJSFF%0A5JITnaRE9Krl2gpcUj7w5Bqyuq3tpSRkYpRdNutr3BMonnmmQSOZyI9itlspUopGeomCaC74oJk%2B%0AKCDJyasTjCXEKKIR6CkzlgV7lqSRz0rSqZw80JJ6NMakvYE71FPoYpn2e33WotJ5QVdTmfP4%2B/il%0AZt9y9qTk/X6V6L2Esu5f%2B0GAEJM4oSiqK4lNyLG5dpRchCMBMDI8qZsXSVnYtJSIxFJSje6pZTCj%0A9YqVV6QCgEbeueKyzT%2BD03Fguv7FkDraUFKoIUPYpJq%2BjWr7Sn2EAKiMRFQsrUTmYOINEIeKW4jB%0AMkedUuSLZ%2BJCa8KoxqTuhPqt3FAImSJii7vt2lLZRaNEu87yZCam7R6UNWdaebPi/mV5e/KqZqFk%0A3bFSFOqUpJgBIn3/AIp%2BO2eZ5PF6PwCvrty5fceecUpaz4jx8KKbUo6O46o4mM0CttatyQRgTRzS%0AT%2B5yFYTzitKTMThRBaufwEjonrTBlwd4AVH%2BtBWoAtBIE1OwAVkSVACcUWVLQ48XtGuiDACCI%2BVZ%0AUFuVq0K6JgggwfPHNZQRSXpVu0i1HQmeRx%2BlVBorac7wmTnkVae0av8A0RoDnH51TydueB0pyYoJ%0Adc75wE%2BFPG3z9Kj7tYHizHmajSZ4FSRGFJV61CUdbVJAIIk9a0pJVtAUPOuScFKp864KhM/nUCFN%0AgnwgjjFa2qUCcAioUKhwEYjqK6UognkT1FQhMWiAcR0Ipv2YtCt9dwsShvifOkCnF7okg8Yq76Yg%0AWenNtQQpeTPUVWTodhVsZ2twtbuDlVMNQuE22nlLaSC71mlFotHfhJxzjzqXXniQ2BJSOZrJOVs9%0ALx0oxEDzhStRNF2xJZCinwg9KXXCgAo5CfOjNOc3MeLABiqVoE8m6CZVujmeK7BUDBAPxOK0BBE4%0A5%2BVdQOuVHy6Udl4yNpWQmTn%2BtRNNBdyQRCFcSYzWAxisSTI2jdB4oqVFckbFWpFZcUyoAAcHmfeK%0AK7O27qUrOQVQEg9abN2w1VLjK0BVwILO3lXp60Xptm5YbxdsutLSICXElJT6xTO6MixtML1PDYtU%0A4QlEqAznyqtICl3OxAlSjtA/3U3fd/gqKiQT15%2BVC2UIbcuXBCknwg5pMpfRthC16W/s/wBnrey2%0A3F%2BsOOmFJZ6D1NOLvVHLl%2BG1FLacRiKrDWouKaSVKOUgij7ZxS2AozKj7FK38nQwwUQq/vFqASmR%0AmTmgHHZOMq%2BEVu5cg4MnmRzUDRUFCZGcdcVNGrv9Bra1Nn9D0osELJPp7/SltwqAMEegrTVyqecV%0AWX%2BgqdhakEORMnrUTxCc8mMTRSilfPxHv6UK%2BEkJwQJ49aqmwStiW%2BT4krTgg88/hVg0zUiwLd5k%0AncrwqBVBHwNLHwlbKgr70wKCeQqyLaHTDavukdPKrpoR56Nr%2BbHVFJCiULO4A/0ofUW27thYj%2BIT%0Aih7q7N9aoWtSNtvgEcmhrfUlXals26T3iRJJPyq3ayrcWYoEE7wd4GST%2BNMuzW5t5S5B9Y4qvt3C%0AlB5ThEpOc9ae9mFJ3pGQTAGKDsMKsvDDiU9j3lpJ3d5z0%2Bn9zSi3ulBHknAj1phanb2S1DcUpPew%0APDk/P/NL7VIW0oHgjjqOKVLsPg0rC0qKh5yc%2B/rXLw2K2/fBz6Vy3CW9smRjz9fYqK9uO5czJkcU%0ALkOpMy8uCyyA2qN340vcu190IMEmutWUlduy6mVDgx8qUd4qQMkTz50f2ZVvoMVvlX3ZTHvihw5u%0AjaCZ59PefpUQeCLchf3554qOU90VKMTV0mD8qJrh1XcAAAnrHWs0K9ct9WCQB/GBTBxM%2B/WuXkg2%0AwOP6UCgltaFpUd6TIIMGr7M2Sdk2qW67S9eaWAmDIHHPWt2xS4naRIOQeozUusOpuGm7gGd0BSpy%0AT6/5oK1cCSEgH0nmrbRlaUtME1DT27cnupTJkpn50rdad2qSASnrVku3A7b7TOPWhLdTSmQSoADH%0AwpkZGbLgT8ElrYLBS4vhJmav1m4qx0RKCApTsHjiq62hFzcIYSQEggqMe/KmOqXHf3SUqEBtGwJn%0AnpUlJsphwKLsLN44R4RHkfKh0vrL8JIBBk%2BXvmuG3YbmZIzXFsCp5xYPIx60nZ04Sob9%2BQhO0DyN%0AdOrO2Uk7OvnQCXCpKQTB6/CiWnJaOZnrVXYzs2FWjqkr2nKOo6H3%2BlBr7G3es6gtOnoSm2Kd5UoT%0ABrrvtiwOhzVp0DVgyEkHxKMGMfWrRyOPpg5WHsrEdn%2By15WXLvbuj7oqs9s9EToB%2Bx94XCBhRxXv%0A7B/itbQSlXSvFP2tuhWv3EmUpSFJnnz/AFrRDMmedywcWUizSU28HGOPfyqe3Qe9WcGRGOtDWCj9%0AkhwkKPIPJom2O5wISJGJ6RTfRFFhtJGg3W4mdpwT6VlSOLA0K8jKoI/CsqyQuXpSO0n/AERo/wDj%0AVRUsqOauPaIxobWAriqiDn7oM8e/fzptCGdIfWhvuUK2oV96OtcLWUKhJn1BrpRTMFIkeRqZq6aa%0AbKUsJK/9xokQKtUnIz6muZ4xWwZV%2BNdfKoQ5BgzXRXJk1oEE8VtQAExQYUMNAtBd6q0jaC2MqngV%0AbrhSVOK2iAjFA9krUNae5crTG4%2BE0YfGskcUqUlR1eHjCLIguNmBu6TzUWs3CXFhBzHnRFmCiScx%0A92l14QXFKCZPrWVrZ21pC96QhU5PPPAqbSFDuvDHn/j61Dck7cboVyPfpXWhr3IWI6zIqyRllL9h%0At3kfeOOK5BJmYwIrZyeCaxCoB6g%2BtBo1QqjWQgSBu%2BtdJ3q/5e0EHpW1uk7iQMjzrkA90VkhIVgb%0AjAPwoJBdBekXV0xqtu/Zsreum1bm2m07lLPXA5Pyortwq5t9VKrtLwuXCFqS7MtnyJNFdgL9Gnds%0AbK8UhLymN3d9fF58Gnv7TLoXemXF4TvuHXCV7jJSOny%2BNVfvhmyTpnnKVKuFJQ3/ADDk0fqh%2ByoZ%0AbACQcRQmkqUoBREqBkQfj/atPPLvr5pmFKEgQOk1b/wOKbbLFYNhbbY2jwjr0qw26A02CoBKQMet%0AdaRp4WoKVtCAPjWXDydziQP4fAEzFKcjr4vAQNlQccXBzWMSlZUng1M0mGyFJ5x8a0QELASJ9Krp%0ADWge7UCoFIGRzQaVbSVCBmKIuZMySCeCajlO0ARjnNH0A0tSmQfLn4V0%2BITIAmcCo7KICT1iKKe/%0A5SZAAn71VarwZFCu5B3gEAiamdPeNBJiODGanfbkpBGK4UPAMYHUHmgk36VkgG1sre2v2nVISW1n%0AZtPAnFR31gnStSU0EFJJ3JERj4dOlFvguII4MyDRWoPC%2B09BDZL7KYKpwfX0/GreeGTJi%2BSplgH7%0AUsDJMZxTDQP%2Bc0kp8UzBoBoqLEyIUo5HB%2BXvpRTLnd3lsQASVQfQe/0q12TH%2BrPQbOT2d1FeUIKh%0A4xwr09zSe0JDMpEKEQnypixLXZy%2BcCo3r5j72OIn9TS%2Bxc3bT0IiKVJ7NeO7C2lTykFROc5oO/So%0AqCUgETx0GaMSncfu5nB/pQ9%2BvcEJUPF6daiZoAW/Ey4lwHaKUXjoDgQUpUkcQZFOkEABZBM8/wCe%0AnWlOrNEXqFJgTkGmoRlsGbyYAlc%2Bc0S2ne6lCeJ5FQoJSsTBxHHHNGMIM7oPHQ8%2B4/CrmdJnN5Bt%0AWxCQQJzSzh4JiRHnTLUHJgq6SJEf186CWhKUhQBknifwqWCUQyySX7N5qAoxielL2gpBlSTtGCOJ%0ANGoeDBQANpGZqG4neXARtJyBiPOotiWtgV28WrdcgEHAnrUds2huxbeUknwnritagrvGNqBJmst3%0Al3bltaqSoNJ5KRH61fqLc0MtMWGLMvhIC3MfKo0oKeQFKPn1qdakuutsInu0efU13cp2PtKAEKwa%0Aq6RI7IXcNz5%2B/wCn96lZAbQFEY4iOtR3IBc8I4GB0FTqP8NKUQTknHWgqHKLJfvInBkcnNSIkhMC%0AfOK5SndtBAO3pW2lQrgj9KpJjVZ2%2BmQCAkDzmibAkLSN3JGZoN94tvI3fdPlR1q6lRQpsiOZFUlv%0A0TmSo9e04gsWfBO0EEfD5/nXhX7UHQNcuducAfgB8a910xSjZ2izkwDJxwM9fL1%2BleCftLLJ1y8K%0A5BHIA4xz%2BtHHV0ef5K2VWzO1gQPSKN05U3G3qBJHrQdqA2naAV7TBPT6dKZaaR9rUrr19/StsZGH%0A/g9ISNDu9w8UHM84rK7uVBWiXSkgRtPA9KymIVL0ofaX/ojU%2BlU%2BcVb%2B0v8A0NqOcfnVP9KaJZuc%0A569a186zpWVAGbhA86kSoTmowOKlSnKd0QD1qBNKCek%2BtYE71pSkGSYre%2BJEH59Ka9mrcO3wU4nw%0AIzNSRaCtlpCE2lkxbpBjbOfOuQoQExxHTr0rLtwvOhUcYqPxlzd4vKs0pHf4mNpbCUkbSeCBgAxQ%0ANwreonOfOjE4bKTn4ml6yCTPHnSnJs6DpLQDdq/gBWcZiK1oS0pcUgkieZEVq/2/ZoGcT79/StaL%0AIuTyDV0znz/vHjkKKYJ864MCYESOYrahsb8OFDBrWSMg5qjf2asfh0tUhODJMERNes//AKdND0zW%0AtQ1k6tYW96loJS2Hk7wgHmBBHzmvI1KIgSSOvpXKri70xxVzp97c2rhEBbLhQT8wZqRluynITlBq%0A6PT%2B3rGnaD2z1C006wtra3GAG0QUn6n9PhVbtX7d67/41Dhb3gErxIPSKohvb2/1Npd3dXFw4s/f%0AccKyfmTVq1hd03pJSpSS2kAJSRxQd2c9uXljXtVZ6Vp94f3UwhIcTIKVE7Zqu9nLYXfaRIKVKCcn%0AGf1qWzec/d6FOKKnNuSfhTHsHbqW5c3igSlPhBPI9PZodn8mzjxbdltcdQxKW5B9OtLlQVnHWuHn%0AVOKWrJBOCetdoRMROaW6Z3sUdEqyIA69cVC4T33UwZqR6ELRtkiOfOgXHh3obMic1Roa6Rq5UO8I%0AM5%2BdRLAgkjB5xUbiip0g/CK6G4JGSSeRRpi2FWr5CgZ64phuUUJkg5Pv86TMFSVCRPr6U5QJbA3c%0ADpQehkJEbiyFA5I5rmSp2Co58608dpIHUfhXDazMmRQTZZuzpRG4pUCD1ioe/wC4WpSZAUkiDgcf%0A5ot5qQSBml1yiLVU8x0opoVNC1aA22ktqME8Dp7/AK1OdqrdmCNwViageKe5bAB3ZJjy86jaLncq%0ACQSn/cc8VcQnTPR7HY72OunAFoKlRPIUfjj9eKr9iruwEkEGIo7RiWuySBKkd6vMKwv8p/GgrhMJ%0ASo5NUk0NxydjVChxBk5qDUSFBvaCpX50G04qUGVR%2BtT3yjuaCVdOh5PlVP8AhsTtECilSSDIcHQV%0ABq6EutJcyFJ8hWPqJIUkxIyQOakALzC0qyTxRjZWaTQjaVvdMkwRmP1pohQS2nJUfIeVJ5KFlIJw%0AYPpRTdzAk0zbMrpE92klIjdzQi/4ikIA6%2BWAKZqWlaElXB61CpnxggYmB/SoT0CejYpQ3SMfnRGn%0AJt3EKDkgK4kYFQXB8Cx51GCpu3AmCRIE%2BtWSETVA12hP21LAlUjE9ff6Uci1cYZUEna4rKj5Vpj7%0AIoNvPLAuk/yH9Kk1F1ZeG/JPBPUe4pt0Z6s4YCUugoKiIwfOu3VpL08QPPPvFabTsg8iDUZMKJTu%0AJnj38aq9j4pJHBV3biikkzyCOtEMrLpEzuJiAKBWSskpJ2xgjrU7Lm1KUngDOOns/lQpFlJ2MWYU%0AlRRMDBBz74rqAoECQetQW70LUnEKJ549%2B/SpXFFWR8gfKqtWOVshvkgsGNwgdBNa0S63ugHCUnGJ%0A/Gu3VEpUFzPl1oewO26SpBiDJEe/fzqvWkZs10e56I%2BHLGz2SYATMxGPOfI/SvBf2op/9duikGSe%0AnX3Fe09h7hNzYJQhXiSrAnIFeP8A7VVI/fF13hieMwT7%2BlHGn2ODylTKhbQGU7ZIjE8mjdPcSh8n%0AqaCtDDAQD6c9aIt2VPOLj76MxWyKOcWht3foN6nyB4%2BFZQ9nKdEu9yiTB5%2BFZTIrQuVXsp/ab/ob%0APy/Oqec%2BdXHtL/0Rn5VT6YJNfCsHrWVlQBtBAIkfLzrtayonPxqMVI1BVtNQhpBJn19eauPZ5g2u%0AmLV91bmYNV%2Bwtftd00ymfEZMVcriG0BpoYQIAqkpUasELYJPhAP5VI0vEEdffv8AvXMbckEj4122%0AQU4kAcYrPJnocCpGn1bWoA5xQJBxzPWinnZBEEjiPKg1LBc25x1qlDJPQFfLlgzuI8zUehr7u%2BBH%0AB4mutQVCE8QeBUGleK6CAYmDNMSOdKX7WWMqMkkET%2BArhIMmZHv38qlWoBMnn%2BlRglJiQCmBzQaN%0AuJ6NI2qUNxOcQKhuAkSgkkH15qUbVO%2BOQJ69K7KEqUNv3eMUNIM9oA0Tw67aCJO6INXztE2kWKu7%0AJBKvhVMDrTd6y5gbFCTVp1TVbG4bDbDqVrVknoKq2ZJY9iS7hhhIbwsjj8qtGitiy7NthSdtw6rd%0AAGY8uKqDyjeXbTAJ8SgIOP61c3DKW2Y2tsIAFLcqN/GhRGFKK4jnqDRLSjwBnHBqJKAACDz51Pag%0AFxQJkc0v060dG3SQqcknM0rtj3l65z1zTa4kZk/KlVqr/jAEiZolWyO9H8YxiPyrAreMJgRxyelT%0A35Sq4JI4MwT786FTuC4BIAI46/H31qJim9kzhgGcgGfj7H60009wraAI4HPrS9S0gEqkT0ii9PWQ%0ADBMHiKPo6EiR8kOCPvDPrXFvhwEzg5rVwv8AiFUg4zWMHeArp8eap4NDUKCgojHlNLtTMMDaPjRi%0ASQT5xOaGvyk2m5R2gHk1EikhXZqCbhO/KCCJ6VEzvaRckKCiVfe4H%2BOa00SSobVQPxrbCAsXCdxG%0AwFUcfhVzHN0yx6Y/HZhDTBKQFSqBAV64j9anY/j2K1A%2BMCBHvpSXQH3A2404qUk8UbbPLtrgoKpb%0AX0pbVj8UYnTCvCRtIJ61O%2B4VMhMQYz61xcHZcQkwOa6dVKUkJjyodTRpeCvUlqSArp/unnzo/T3R%0AcW6FNyVDkVHqKkfZg2pMHgelB6MruHSgjwx0NWURbmwTUkKRcq243Zz%2BE/jQyXYAxtQOnHzprryg%0AHUKAKtwkiOtKEK7wggbQPOmJMRJjJl%2BAdwMREcfhWM3K1Lgqnof6c0Opza1MxAHXHvNQ2zh7xJM7%0AuJ4H50XEMclE9wsBJJykGSr351JdW1yzasOm2eQg5Ci2QD8/fSt3Sm0BJuVJDIUCZr1a47Q6PqFl%0AaW7NzavO7AmVkFQ9Knhlz5qKm1oTK%2BzYvHC004BKOiyOhxVbRL/jVAAxI598/WvQtQSLm1fYGEIQ%0ADIMj8vWvOVlJaCWyobScTip2M%2BLPbNPKlQQgZHlj3zWpJSpUQj1rq1jc4CoqA8%2BlQvO7bbYEkEnk%0ARQTZuTTQOt2UiDKTHHWiW08EiRUC0pURug0SVGCeRHn78qvZEjpuQo7YiB9Pc1M6sgFUQIj4UKTC%0A8k/EUS6oJaKpBz51RsYpUgVTnegxKZ6e/eaktcFRUYBAHnPn79KXoWO82pnPSOD795o63V3pMTjB%0A9/WotmbJKz0D9meokX5tVSUrgQffpVN/bcwWu0Cik4x5g%2BXQ%2BlOuxl8my1m2dcUUoSocZnPxoL9u%0AxRcdordYU240tIjYSMRwaMMdOzjcqSTPObVWxhGIPpiKYaI/3V8VxwOKhe8ICVbBGaywUDcGDPnm%0AtcVo5jkh4i4Dun352xM/4rK5YQP3RduCYzyPSspisU3sq/aWP3G18qp%2BKvGuWrtxo7CWUFasQB1z%0AS3tL2J1vs9ZW13q9qi3auACj%2BKkqPyBmr2KKxWT9aI%2Byr9B86w2ioElIPxqWAHmu0K4AjzzUpYAJ%0A8SfTIrjand%2Bg60LClst3Yy3SW7i6XCQnAMQfcUW85vcUo4k1Lp7KbPRAgkBS85oZwblACkzkdXi4%0AzaSM5BroHwwoAepFRwlAkE7geRUigEx0kVnbOvFOiN6FDIAM0IdveKUD1yffvFGPITnPrNLoAJ3d%0AMUUxeR0BaiuRAifhGK40YTfpGOOazU4klJknNR6Sf%2BLTPypyRz5y/YtCYyRWlEb8gT6j30rUhJxz%0A6Vwoju1QDPShJ0bMT0aSW9qg6OnM8VA9cJRuCD8JqO5fQWdplJMZoBat2esTk/j786oWnkO3XAVd%0AJ%2BHv1qfS1zchQggc/SgBAECInBHy/wA/KmujpQEOKMkxz79aNaEJtsa6G33%2Brh0BJQjJjgVb3Nql%0AkgCD1IpNoFuGNMSVD%2BK4vpTYEBJEyCeKVJHV40XVnaNpgpAPTOKNtQNhVGZpaopbbAB56kUdZq/4%0AUSSPzpTOikR3Tg2qA6%2BXApRpkL1OcEInyz7imagk2Tq14jik%2BgqSbhalztztJ6e8VELaoI1RQ%2B0B%0AQ4PQ1AlwJgqMHj%2B1S6gpJ8X%2B31H50EqIiRJ4B60aFuxgCFiUyZ9aJtYD8R9aAt1ApAmf1FGMxuJJ%0Aio2Xg2gi6ISsgH1%2BNc25AQBgjnFR3PicCsmPI1MwBwQY5qlNjU7CGoK1HEnEDNAay8W2DtIJ4g01%0At4Dm6cDGBFI%2B0KkpggyJmCes0UGb0RWiUtWhUogK3GB6T/iu9CU0jWiSlKlOQmJ4BqPvEtWbIUSk%0AE%2BdCoSk6qztUCpSgKuZJbLDqNozpvaJ1m2CCnbJCOJJrL8JDf2gRKOnpUF8w%2Bzrzyrg7pR4TuJou%0A0Kdq8fe8qXKTLwWzlCu/aS759PKiExsTJmoWQlKVJGZ4FdAJEDoPWqW0aV4LtQeHibBGK3ZJQpwi%0AAYHWgb9xDdwpTkz09%2B%2BlE6WsF9IEmRgdKYmLpWFam2k2yXVnwjmkzbIG4JwM5A49Pxqz3bKfsawr%0AiPOqw2kwtJI8gRHFWjJFJwvw5dV/Difpk/WstdoXkJHw/GoLhZBhQBMZB6Y9j51LYwu7ExsIB99a%0AbYlRD79lNxbEORsjIjB9al7Mdnra77TaYyHCwhZJKx4iD8Op56/WtultSU7TmM8U77BXbVh2lcuV%0ArCdjZSlPVXpz/WqSejPnxJoa/tI086Ro7qWtRaWVnCGwQo/Hp/iqACGWgQJjkedWX9ob4fu9pQpt%0AKgVRA3H0qsoDf2dGSSB78qWpNsyYsbUia3UHEq5SVkSPKuFN71pAOB5/nUzak7JOTEgdKgYgKW4V%0AfxMR7%2BdNTv06MU0cnb3m0SCeAanJERIwKDU1/GKhyTOT79amUhKlESSQcHFTRLaJSoFW2AD5iu3V%0AhVupOJPShVISlQJJkdBmuXnm9qVBWBmAalFrRwBCiVAJHmfzouxcCWnADHn1gUuKUgc4HBnyPn7%2B%0AXU20QgsriIHSYj41KETVhzVwG7hleFJSZI5nrQPbnVFak%2Bm6d7tJbEJSEwAJ8q7fT/DSsJJkgifW%0AkPate1hsIG5Ksn0q8DmcnEqBg%2BXWgt0Dery61toFoJUggefWaDaWlTaASR6CtKdgkJWQMZ8q1JHG%0AlplosX1/ue%2BC9pCgfjWUu0xxw6Vd5MRzPpWVdIWznXkXTeisONhY4IKSZHFVdNrqOrXCW7a3u7t1%0ARgIbQpwk/LrXrbF6za6KwTZounUgR3phI4zEGaWDtNqukvuLtrtFm%2BvJLLYSRUKlOe7BdqG473R7%0ApCokhaYI%2BRrq07BdprkkMaW%2BogSQkjA86ttjrer35fWNYu1KQNy5cJJ/vS469eIO1OqXiSeShwp/%0AKpaBQluP2edqGGO9e0p0I4xFAWfZvU/t7aHrJ1KEq8SinA%2BNXK21S8ctnD%2B8bxSEZgukgfImiNL1%0AK4GnutC4cLLivEJkGg5KhmOLcgC9QptzukjCcc0EWzlR%2BlEPKWHTkkjE%2BdQbtwIxPJn37xWaTO7x%0Ao1E52SQTJPFZEKI%2BldpJmU9fyrkpCfEcyetKNgPcqSj%2BbMUClYEyZ85oq%2BKUtmSBNCsQB65q8f8A%0AQjLsW6lBd8j69a1pW03glO7mM1zqB/iQMEVvSYF3u6AU6jmzX7FjUpKUypXHNB3NyJKWzgdRia3c%0AOAdfCaVqWSQI64NVaNMZUjHVg5ScHj6%2B/fOJ2lUqIM%2BYx7xWHbjPpitphMlP5ijVCZTbNQG1bh1P%0A81OtKZ/4YISkqcWegzFJyElKsjic5xVt0K3SoWiZk/ezH9KrNo0YItssjiUN9y23ASlMEeVRoKS5%0AtSZ/GscUVOKMnJ681AyQlRxuAPPrWZ/6O3j/AFRLcLCG1QkpUnEUwSNti3u5XnypPdu71hI6qgDz%0ANOnSnalrgBNV6jlKwLU1hvSlLByfOgezgSpDqxGegojW3kpsCkCCTn19zUPZ4pabXlKt0%2B%2BKKiVb%0A2b1AoWAomdvNL0KSQD55AFM7woIUUjwxielJwrakpiUnJI6DjH0qyQpugu3IKk5TA8uOKPt1AIgH%0ArJFLLRwKIJkHkweMUytVJIzz%2BAoMvB2TpAWSQRipmNiEzg%2BtQHaSBjyE1IhsKTByfwpdD4hhIiUk%0ASPSkeuQp1MKJkyUAc0zDBbRv3weomYpJrawXmoPGT6mrJAlJVsmu3mzpmwSlYPSkV4pTF8y7kAGQ%0AD0o0XAcISRj6UFrK0rW0pEGMEUxIx5JJl91wpuRaLEBMSU0K0dhJknafwrlFwhyytVJMqUiQJ6%2BV%0AbSZQMCeKVO14XwoIwuNsyRNdJA7o7SCTXLB2HMcV2jbtgiSeaorZs%2BCs6ztDZ2mSDx51xotykLCY%0AEgcHrUutXDaipsxuBzxSrT1oTcDAM%2BlOq0ZnKmX9hfeMKmASI5qpuOIFytIUAQozVl05SVtDcekT%0AHNUvV3Ftaq6lSQCTjcOZoxjQZzVHd8oogzKZ9/l%2Bdd6c6N42wDwT6SKifK3Lf%2BINo8zW7ZW1ZUMG%0AOlOoyd9h9y%2Be9xJg%2BZpc7uXch5p1aFf7kmI9/wBKIdgiVETzM9ajcE5BEcDyqjRJPsEuLU6ypT7z%0Ajqx/MtUqistpWgbVFII5itEBLS1kgiOSKjYuNtv/AA9o85HH9KlWSMVEPSx3SZWsLUo5gcVpsBO/%0AdxGIzmobZ5SwStW6D1TFdoVKVCCQTQaHRZClYCkgkTknrU6nEokqXA8zULZSh3coAlOPjx7%2BtLNW%0AvgtWxAMTwPKikVlNL0IeeXdApanaMDrUhZ7tjxuS4rmaBtFXrhKGWFGc/d6UwCVbUpewqIEiM%2B/z%0Aq6QrvfhHgNzgD0OKLsQnYYMq4oRSQppRiROAczRFkoSvwwPKgw0FhtKwRugTumJqvdpWQGA5ygEj%0AI4qyBBU046VJG3MGqzrl405ZrbiM4Bq0UzJyeqQrZQkzAEx59K7DHJSU49ajsiAjE%2BWfjRKmdyoQ%0AABwfSno4GTb0H6a0pOlXhOZBM%2BeKyptPtnW9KvSoyIJ59P8ANZVlYllptLZVxpKXACoMIC4Fee6l%0Aqa9SvVuLSAtJ2%2BlXxi/NnpKk7%2B73pA%2BNec3d06L1zwgDdKQke/SqtkRZuwD7g1C5BHh2QoxEc81X%0A75YN08uQlrvCmTRdpqKrGxdUlSS86MBGPw%2BVaUzs0BKy2FPFe4g5qlsNh%2BuIetNLYZt0na6QVbRM%0A/SmNuyLSyR4pUQD8KWM3a74JU04SkD%2BY8UDqF5c2qwO9lJ/lOYoNWaMO2NXnwVqUME/hULav4ihA%0AAVxPFIv3wskBSfQnyqdGrtgSRE8xzSmmdnFkilscLXhORJwTUbjm4A%2BlLjqTS1ROQYxXSbxlYhKs%0AnPPv3FDqO/JH7NXqjBAnGYqNoAJkK5E4%2BH%2BfpXTjiFKVCpHSelQFxKUqlQEdDV1Ez5Jiy8O55R/G%0ApdIWkXBT5jJoa4PjVnk8zROi/wDPWonIFORzsj2HPufxCgxA6E0MYC8zMYnj50Tcbd0hRkjEdaDG%0AUg7pTMCeKrQyMnRvckqTA9JPlUnKiDhJzj37/OJO2R4pHqKmQAEEdT1/rUaCtnbCU96EkSBiAauP%0AZ1P/ABZWZIbTInj4e4qrWjYU8FKlJB6zNX7QWAiwUp1PiUcHr7%2BdImzfx0QqdK1Rtgcieff9q5St%0AIBiCeYIqW4bUFEkyOKiUnwjMycGqI6cXo0kBd8ygHClSY9mnT3/vE5I4jy/z%2BtVvTQXdWRuBO37q%0ASJkVYnj3aSJyo80bRdMS6%2B4Ps6EpwFeYyfefoazREpQwoqKSonAJqLtAQEoRhJmSDyMVBbPFLYG8%0AkxyfjUoDkkMLwBTKgDBPI5pO0nxQCSYnPv3ipVur3FIUVJHl1NQNQSU7hzxUoo5JjGzb8RUZ3dB%2B%0AlMbZKd6hBOOBQNkd7ZIPHH6Udb5JzIAqjaQzGjsIElPX0qZtEKIByR9KhJAdBJPxrsLBUSTJ5MVV%0AsejpStyCNxJHTMjnmqxqDm51xQUYSJI5qyNvS6tRwocgCqlcrkvuySZwTV4tGfM9Btjobt7p32xl%0A0HJBSoZqFOk3ylEOoTsHJHPvNOezevafZ6Atq6d2vbt%2B3bM1Iz2vsH7xtlCFlLg27j51a2jlTytP%0ARNoDC37RDaEplkwVHkU5a01QCytaZHAFV221VPZ9%2B770LdSVdOlO9K7RWl%2Bhwp3pcKcJOR%2BFLlfo%0A7DymiNQAXHI610kQJHUVGV7lpKz4uo862HQEqOFHoY9%2Bv0qqaOjHN2RWdaSnvlCeAZ%2BFJWVhu8GD%0AHxxTvXfASQomeSTVbdUe9THNORlyz2eg6K6dgiYnrmge0%2BmB%2B8Q60QkxwTFSaE/ttkhUoUfqKY6o%0Awt5pO3lPrVW2h8KlHZVLvvGrUIIJI8xmgre6BcO4fATViUjwll4JKyMHqaUP2CGn5SZPPxq6lZnm%0AqejXeJcGJEcRmpEKKkgmJSIj37zUREGSoTWNrjaCfvEwY59/0qOQIy%2Bw4lRtFQORHFRabtUysISA%0AZ61KhJXbrC4xiJ9%2BzUVk2FNONqXgc0FJl2yZJCEhIggmtvmEEj7yfI5irF%2Bz62tXdXcW6Ev92mUo%0AVBBPSrzfW%2BharYOovghi6TOwoTtmOOMRU7KyjzKPp448oxtbB8WYjj3ip9L0htS%2B9vlBlpOdsAk/%0APp0pjcv2GjtuFBFxcjAkYFVpd2/qTxW%2B5BOAny%2BdMsz5Myfg71DXRbOfZ9MbQhEbd2CT68UI68SS%0At0gbuTHB9/pUdha4PPlM1vUbdBhtQEH1odxcZS9NPXVv3U98CojApenV0MEqgZJ8PQ/Cl1xZSo9y%0AuDwBMz7/AEqxdgez7eo3K/twSthI%2B8R/f3FMjGxeXmOIive0i1gJZSEgCDPJNV965ceUTuVzxV4/%0AaLoNvpxZcsmQhB5A6iqMuEiAPWTmPeKao0czNyXMZWK4Qk4gnFEqUe88BIPnQlkdxG7wz0pqizQs%0AFTju0xRM1/YVpr7v7qvRMjJ/CsrdgWP3Xed07vMEE/KsogC%2B1LwX2StlIVDiSmcfCqo9qKnXkKhP%0AeIGMcU%2B1glOgoiCkhP51SVnJkQekz786q0VsbaS6Df7noDQO4%2BQooaqf3zzut4gA8UnZWE2xMY6j%0ArUEmIiB0jn3n8alETLXp4Si7uX3FSlXGeKB1F4PHBBMgietL%2B/LtukLTgYgYodSlKUJBgmOYFVo0%0AwnFLZjhCVQeTmfyp7aaKzdWAfQ53ZVkx76VXHm3EKMSUk4PnU9jcPFxLSVEDy8qsi3eLJX9Pcbkh%0AaSnrHSglApHO7pRbyVAKgnOCDUbNstREn0x0qWvkjv4Zywy%2B4RtHJiibpo26PEJzxNFMIU2RPTEe%0AXv36j6q4FQmDPWDU18Fv3S2xUo5kUXpa4uSZ2iOaDPM81tBKTIiiI7NMe3WVEpyQJxnHH6moQSkK%0AkblHyxJn/FBM3CkEEHKfOuu9UggyOvr7/vVWjXHKmgpO/cMzPX350UyFOTgFPlHvzpULnzEz5UQi%0A9KIKQJP41V2hkZxfpYLBlSZXCZmINXZsqRasgQABJE8V5gxqqxt3H7pkQetXbRdTVfWRKG0%2BAwf6%0A0idnT40oPVjJThUmVAj0j3xQ6nClvxZPFd7k8FUT1mhbrchKvFtHAhXFKs6LR32YSr7Y48UTHpTq%0A8UduMkml3ZgbUOqMJmjrklRTBSZPFSyIQ6%2BQC3tI3RH9KB01alXMgdPoKk7Sr23UAyesVmjNHulP%0AAwJgY9/OrJCJy2Y8rcshXQ5Hl7/Wo920knr0GBXTwAVjAGQKGW6QoGYjy6VZi%2BzHOnJKk%2BEA5k4P%0A1%2BdM7UqLhyDnrSzTSA3wJ4HzFM7UwCowRJ560qSNWOTMfncUpgKHU1G34EFWAZx8PSpVeJzxeOTg%0AnrUTigFEK%2B6PpVOposh1N0N2G8QHCfDPMUntmy7aEFJBVgx1o/VSk92jgdE0dprYbTDiIVTEjNkX%0AYr50lpDjYCQrGRPnWWmnp/f9l3TYAK8DzJpxrH8NYKB4TzFLLB7frNluAO1eB0qxz8mBesc65b91%0ArpbUQQoSAc1NZ2bdssqQgJJ6AT7/AL0d2xYi9tbtSsExuP8AeowVqAOROflVHYzDjjZLccg7QSRE%0Ag1HtLafMVK90KRxkzUD4UEqI55FUOoopLQo1%2BdgWePXzqrKMEKSB8fOrEi3vH3f%2BI2KYPMq4Hp76%0AUo1LTHrN4OKW2tkklJSsH6%2BVPimc7M6Yz0m6TIUcADjrTi71Bt22DbO5M5BAqmWVylLi9yo6gE04%0AaeCkyIA6E1ZwsthzUgxt%2BAUry3EQOlaubkEpQEd4CARtP1pXd3RQlWAJEVZdP1TRdO0stXSBc6i4%0AmUOMjDfopU5OaMMV%2Bi83LjEUC1ddSNqZPricVKxZOIlS08ZMmuXdRQtfgkEE5qe31lshKHeSfn50%0A3%2BnMq5kG9klrZHuVgpJBGPpj9aj7O6HqnaJb7Wk2Tl0lswtydrbf/ko4Aq39jGtBu1uvam4t9SMp%0AtZCQrzUo/p6U77Udsmm9LXp1iGrZoYSywnakepA5NLlDqGfJv%2BwWWVho/ZGwWLjURqGsOeFaLfDT%0APpJyr5xSvUFm9fQttwhsnxRgGq0tBW4StRE%2BvHnRbBcZSAlyR5VWLTMuSTka7X2dtZrAswXFOCZN%0AV60beaS4sJKCrPEzVqeZXcKJlK3YmKAQA66WUiVkxt5mtEIWjOsnVgNlfJQYOHD1FRatcpQ0ta4T%0A86I1PR7uySl9%2B2dbQo4K0xPuaP7N6Nb6mFO3qQpDeEoI9KEsK9NEeZSKhptnearctJZSQ2TCj6TX%0AsGn2KbG0QwiFEDaox1riysbWyTttmUoTxijhA8M/TE1EqRmyTUwLUdNZ1JhLdwneAPCf1rxbtLYG%0A01Z1lv7gz8K96QCleI56da8d7bNbdbuCcDjPv3FFMyySEFmtTagpWOKN1nUDcIaASkRIlNCsEJTB%0AIInk810bNhUAvbScgeVXTF6QTpClDTr4ERP9KyprRtLNheJTlIBE%2BWKyrFSXXm3jojJbxMfnVYaS%0A8TBShc4INXvV0sHs%2BwhYJWspgzxmkL9lZN3qWXNxURJAPNBgoTN98mQGUwcmRPzrQL0/8tMeYpxd%0AN2ts6NrStnqqstGbZx0FwbWxySffuKrZKFOx%2BfAhIPMGuii7URtCPKBxT9NraOLfW2lSWm8pM1E0%0AzbOWPeNkl0ZInpRCJF2d2seJST8/yqTTbBwXB3ARzg4NHs3Sd2wMzOJimRu2NrbLDKd/8yqDYyCt%0AiwWhJSeSfYqUMlIEJjr799aOKTkADmeK6UlW4RwM1R0dPDgTVgCWFEk/UdR/ikurIKHQDx5xVoWN%0AiCoYHWq/rqcpUB/ahY3LjUYiTrHU120MHE1zBJiKIbQCeKavDlSWzQTEAVOlG7lQSODP51tDO5Ki%0AoV2Ebcx160O1BjBsjU2BxASM8VCls74VxkSKJA2pJjw0OlIS4JxnjyqejOoUm2Tt4BE8AZq9/s4K%0AA1cNLIJVx5/L/PlVLLe1sBSQREc%2B/fyp32SWoaoEdTyPfxpeTw3cWKtFv1GxabSVNZIHlSZd0kMq%0A3Jgeflk81ZnN5G2Jn%2B1Vy9t094oQCkGawuLs76/WI00K5tG7Za1voSv/AGk%2B/OpFuNFQKHUEE8A%2B%0AtVS6twClSSQT5GKWOJuE4QrAOPxq6i2Jlyox00OdcWlT53K3bj06URZvsNWQbS4mZmJ86qT/ANpS%0AlRW2QkGM0L3jm0gKkjyMfSmrHZinzI2Wx5xtS1AKABPQzQ7oSFpAIOeariFOqgAg/KuitzcSJ3Dz%0A/Wj%2BMV/WRLvpjwIShAJ6gT86e2%2B5IV5Sa80tNQfYcJk/M5FNU9orhLYSTGIO7MVWUNGrDyo/JcFu%0AglJSQQT581G4oruEgxHnHv3FVL9%2BPKMpx5R%2BXv1pparvbkB9DKCD1J59Y99aV%2BNm1ciEvAy9X3l2%0AnYMo5KufjTFvxkn7scRmKRWzF29ceIAk8kH4U1W13QE3KkEjBIxUpgpfBDqjyUFMfc8j09PfrSyw%0AQVdprJDZHiWMCt3un3byyQtS4E5HAH5UobtLpbyShULRwZ4irIzZm0evdsWC5pm8geBYk/y/Gqum%0A8aS0JUgcdeaS6haarahhq6u3HW3gClJUSPmKjv8As5fW6N7jiQlXCZ/D8qFC8U3F%2BFkbvm3ACle4%0AEfQ1KdyykIEzzJpJ2a0x1ZVvVxMI6VbbG1Uy2UrgKHmaXJUdXFNTQq1TTi/blLXgJ6cz6VW%2B1Vmr%0ARm2re5JJcH3U%2BUVd715NlaqednueZ6mvLddv39SvS9cOKcIMAkzApmKzn8yCj4Dd0FkqKh5k0yaf%0AUlmB0EA9KVMFYErBiMefyrVxeK2ISiIGDB494rXA5MsnUMW4gwhStxJgFRijyhFu2lRKSesZ9aq7%0AiHVbFJUrdP49PfpTS3ul7P4ySgjAJp8VRjyZOwUVncVCR%2BlcF7cQQfEOPfvionFqytJwnkD37mhi%0Alxad6BBV%2BHPv3m1ibY0tr5xqVMrhS8kjBNMLS/JUN53KnrzSFFktaRtJCx5H5UY2hTRBAzJmlzp6%0AYyDaHzb5IBJO2celSIucwDEdeIqs3V%2B62oITIzMTUDWpXZVlIIGaz/jrwb%2BRIuAuzuBByJiOlPez%0AvaQ6NdtuFhl4T4lKEqHwNeefbLhQBSkJTwagunrwp%2B/KSMgYq6UxcpxZ7p2n7Y6LqPY26WpsuPn7%0AiQMKPHOT/iq12KBGih5UAKMEE4FUDSCC02m83KaBnaniru1rLLbKW2mVBAT4RNRuXyLLMVJ2eEx8%0Aq2F5gnjpVZGvDJS2T8aw9oFBY2syD61WmWstocggDJ9PfwryTt0qNauEYMj4VbT2ieBHdswemaon%0Aahxy91Qvq2pUR0q8UysmJ7YmB1Bia24pMqJOelFMspSynAUOp4rC0iFKKAZ8jzTUjOxnYNJGi3XS%0AQceWKypbZ1v9xvoCcpB%2BtZVkkAK1At2/ZxDywCvG0etIrtaL3R/tYA79B2qjMUb2lcnRWkoAKfDg%0A0l0HxfaGlFSipOEjIEUths1bXaV2yEPJSSnOc121/wCoak02kbWRztwR86WOOBslMEEGCfWnVuE2%0AekOqUNjy5jPPw8qDJY2eura0vk21ts7kAAmcnypXdPJsdWKmxCfvADikgWRu3E7ieQKb6uUqsbNx%0AvxAphRobWg2c3GpJUHEpARvMkpo7S3mLazdRcCXnMpPOPf60nsbb7XdtogJTO8/Kp7%2B6bXqKSgHw%0AYOPKo2xsJbH7biVNpKuPKuHVJbHiIJPGaRu6yB4GQfKa5S844r%2BIolcdKW02dXFnhBbY2U%2BmAJBV%0AzFLNWUhxI9PPpU%2BwOEYkccYpXqi9qtm4wBIBqyxsGXlQkqQsJgqjyoy3KTtOSOsUHIJMH30ouySI%0AUZIHEkUyqOa3bsPSkFO5EgjoPh798cLkH7pPi4n44%2BcUSwB3ChiYiYn40O6AQIBHp6frS2aYw0Rq%0AUVIiB5/j/mhVH%2BJJ5GATRS9o2Jz5%2BU1GYK5wU%2Bo5qyYJIMKg4xgRA9/PP4017JqSdabUtMpBmPPi%0AlTbg%2BzZPB5Pl76Uw7LlP74bSNwkxjMfhQkauN/cj0O%2BKWkKIwr4/hSW4hfiHJ8jzTzUWfD48CcD9%0AKWLQhcDmf1rHKSTPQx3ES3RSDtImcg8A0RpFoHVLeUkbBgE127bpdu0ggpSDKsYpw3bM7QpJgDoO%0Avv8ASopoTLD2fhVdZSp1valJCZMjqPc0DaaeyhI3gqWc56fCnV/CCd0kzI8qM0%2B2bW0nvwpM5wMx%0A51b8hmycJP4KxqLLTe2ANoHJx9KVqIJIABAwPI%2B4q7arpDb7f/DLJHUESaqr9k6m47pLZ%2B9kgHHw%0A%2BlMjkMOXh9QBI3NoAAJn6UWGN6ZUIPlM9KbWXZ9x0hRcCfJIODT1GjKQlOAenv0qzmhePjyb0I9D%0A0PvnEPOpHdjjpHufxp/dWzjSXClcJ9Fce8VM3ZvMoMCAKHvTtPiKojr79aS5nUwcRrbN6W0oP7lu%0ADaBk8e%2Bfwp4lNuEAOqCjGKUWVu3AXJO7JxTVi0bd8QVtPlGaRKbOnjxrw6N1a27ZCGypwCN3lVdN%0AhsfeeSuSYP4/5qyOWLQG0uCVZBoO505IS6WXN52zt86rGQcmJCzVVuOM2W5X3SODxTx7dcuILg37%0AUxB60gu3UPGzbI2uNkAg8zV50xNmWWlPqTv29VAR60ZTK48afot05oW1ztWAAvnyMzRzySQQD4vj%0AFAapdBy%2BCmwdqMZxkU0b8aQVpwc7T0qlmuMEloqWuIT/AKcddW82w6FwlhX31jzrztcbgQB5x%2BNe%0Ah9t8MgcpV1IxVKYsFvgK/lHJI9%2Bda8dfBxOdGVgndG4hDYE9D5iaJ1O3RZWSdzcuLxJ5qxaZaNWj%0AQwJHJI5qudp30reCUYIOSacmcaeJvbFTbgECDuHJmpFunu9sSOfhQhUJzIMVtbkjIwR0p8XowzVM%0AlZuyidhOzlQBp1aOtOspUkQCffv1quoSSImQfxopl1du33aHMHIxiiyQ0yxF1LYJWpKQMTP4UM7f%0AsoQIUCeoB5%2BFI0ule7ctWBg8k%2B5rhSglIz%2BFK6sa5peE1zcJfeLkeIQBnmohcKEbSZ9ajXBAEY8o%0A5rXJz/L0%2BlNSM8nYSm6cIwqjrRL17cEBe1KRBilPE5BgTVm7NW6Vsk7vEehFFyoEMbkxjYspYYLa%0AiClPUV0jUGyNpIkHgHFGMNhAWlJkcEkfKq5dWyUvrUsGZzHxqnezU%2BN1VlgavGVZnPQipEut7RBH%0APU1VCkgQFKT8Kw3DqCTuJmpVmaTaLYHUCIg%2BWaQa1m73CYE8UMNRdSciQPTmpU6khyUup55kUaKd%0AgBKglSuh9K63qA4%2BOaKVc2ih4REelS2zTDyCVHbVkV9O7CV6RdqIBIn6RWUbbsoGmXoQsCJ/Ksq1%0AgBteb/8AQ2fGASR04pd2btW7e8fe71K9iJT8aba1Zl7SGAlcSEmarlopxb67W1jcrBUevzqjJohu%0AG%2B%2BZduB4UFzPpmn3aRltdrZpSstwkE9ZqMWqE6YrT2HEreQdxnr1peLhV4FWzywlaMBRzVaJYMm3%0AStSkBfA46U21Etfum0tGiHHFHafKljCAwovOEK2YABo3T0BaPtdyTsB8AHWjsiYVpSBZaytt4hSA%0Anr1pXqCm0XTymhDpVgHgfCmGpJBR9rZcMEQR5UseLNzaJWY71JjcTg0C1nFqhhxeGyHE5OcUxU2h%0AA3SEjrS5bjaXENsYERMyTRRtDhx5RBxCatElkgum05DiYHSaD1Jrvz3qIJAnH5%2B/KmotuFbEg8zG%0ARXBQAhSCITERT%2Btk2VZUhRE4mKLtCrYoE9Zoe4bUh7IjNFMHaqE80uSLQbsZWrhACT8ZqF0gSDjP%0AQVoShB2njiD79/hp8lUx0E4Pwiks6MGqIiokwcEeVcKVJgfMV0vak8xjitQCZJke8VBbCbcqLSoP%0AhmePfpXejv8Adai07tCgFA5%2BfpWNABgxB8/hQkBD0qCY3Z4xVZLQ7C%2Brs9c1O4XeNtmQkDiBQbbc%0ATEwKls0/%2BnW%2B4z4Rg9KmMJAKYGP0rJOj0uB3EWvEgjqRRDKisQBisaALpBjmmrTCCjxR8qS2h/42%0AVDUytboBxBjceKcaY48EIUFNLBAkKFRasw0p7u8KB5jiu7G0Q0pSCkCfu0W0BRdjNSkLTCm1IdOY%0AAkCo3bUkpKFHAz4ajKCEBAccA6A9K5Ul5hpa0PK2jkzQ7DHjhJbRwq1KR98BRnFQFL6Z2rKgDjPN%0AGWTjtwxIbCoPVUV1sKVeNhaffSi2xaxxj4QountwDhwBmaFunm3liCARnIo5wpG1KkHzyOaUqRuu%0AV7PFmAPKonZGNba2SGgpLlSmzemUuR5AUMm0SgCF8cyrP5VOl1xKQknI9ePeKDQ2FEybd9lCvGFI%0Agbh51i7ppmVEoCyI2/3rru13CCXHUpx05FB6hpLCEpIc3yMgZqlUXnSRXb8trv0Bpc7jM81YtKdL%0AjIC1GRz1MVXPs6V3qNq0lJ69KsfZdpCHHWljvHJwOlWkjLCdSDksfwVn%2BZKuIzFGPXRSwNquRPka%0AJtWFbnS8ja3wB794oW87plPdgYPrS7NierKh2nuTcKab49KAVcotAlpSTt4niaI7SuBDrYSRvicK%0A49zSkaj3jgbeQlcdTzWjEm1ZyOXkTexzaOlwKJI2%2BtVDWnN14ozknP8AWrO9doYZTASRH0oByxa1%0AAd40QcySa2Q2cvK7WiqkHmdoB%2BVdBtxwpCEn1gcUye0h9LqgD4QOZ5qw6G0yplKVICXUim2kc145%0ASZTFtuNlQcBAGfU0%2BtdBdurXvA5KCPD5U81O1aVarJSAo8kjI9K1aW60WTZ3Ejy9Ko8hox8Nv1iE%0Adn3m1oC3EFB9zTM9nGQBuWsDbJUKLUlQUJWTGaMZUTIPB%2Bg9/pUUzQuDEp99ojzI3tK/hgdR5UtZ%0AYW4ralPBg%2BlX26KVeAEbo4ngzVfFi20%2BVIVBV0P9KupmfJwkvGRaXpre/wDjDeefSrG22lh0pbb2%0Ak8GgG0wAREjyNOrJIfRtcKZEEGqzY/BxkvSBBBUAcEnMml%2BpMhtwyQB/uPFMrnYy6lacwcxQ%2BoBL%0A6CMDqDM1SLHZcVR0JFAbpQQAnoDM1imSUFJg%2BVROMgGEEjyg4rkLcbgEiaejiZVsxxjajiV8HyqB%0A5o8nEdKJ%2B0qAAKQfMg1irhonx/PFHYnQIWQAAAP61pDJSpW1wojiKNcU0tSNqgZwTNRXTak7Q0Bz%0ABgzR/wCgOtJLn2C9KjxP5VldaYFJ068CpnP5VlQAX2geWnQ2oVAEZHypJpindOZ%2B29V4BI5p7q7P%0AfaZbIM7VRIFJO0a1oeZt0IUhhIwAeaBUGsb9aL/vFEqKzG3jFZqzZt71xW0ALEietBFW1SVwFFRz%0AFO%2B0bBm0XtBU4niqkFLO99xKZMqxjpRl6%2BtBRZbobbyYqTSbMrbuXUJ3KZEwcGKXIJed3rEGIG6r%0AEsa6S4t1l62UQUxKOlLF7gpTajJmCP0pj2cac%2B3wpPhAyCeKFubfc/dOpBLSVdKqEy3TvSSpUQPD%0APWn%2BkWF1fBa2UBYYTucUSBApQttRsWlI27ifwr0H9n2pWWn2t3NtbuLSiR3yvCs%2BRHWinQUV1tZW%0A2Ff3mhXylIgAiOZoi91Zm5u3n9jbRWqdjYhI%2BFLbx1DrUtnBpynovQou1BL693UmubVcKVI4PAxQ%0AzxPelK5TEiaktCF7pTk1Vgi6YaCVgSfj61gWUAQR8P61pJBEQCSPKuCsbogwOBPvypbNUWzS1eGd%0A2Oua0ggmd0EDn9a0tKACDz0JrpiAJEcVWxiQZZkqYWBHwBoUrHfCYxj378qLscMr24UD5/lS8gIK%0AgZAB4qrHR0eo2alOadbKbBACQD5H1opRKUgKySKG7MEuaNblSUxxjP4UTqDyQlSNsnoCeax5Ed7j%0AS0cJAAlJz60Ww6owlP1mlds8lxBKgMcbv5qYoQnuioLjH0NJ6o6EZiwyrWio5KB4qZB1tSgUpiI%2B%0ABpZppD1w66pMAEggH37NTvFKR92JMQKJO1DPwqTyOZioL9eyxeHnxNc27yVNFKgM%2BVc6hC9PWAQf%0AKaDiHsc6Gsi1CW1RyYp806FICCSD1I9KqfZ94NtkHIkGSasdurvEyUBMDqegqtUXjT9O9UPdNShS%0ARAM%2BtVnTx398EqAEmIAx9KM1y6C1JQCTHGeKh0NIcvUhW360ULnV6GHaG3Qi13NQlalZIxRen21s%0A/asuJbAUExJ8/Oo%2B0EmxVMKkzk1z2fcSqxUjYfDBE0QxizYt0G2uYJ3IEgmgmkOrt3u9WrZEAJOf%0ApUzd6j7c80rxJj8amYUdrgKfAkc0C0o6Kw/atW62Z3FSvw94%2BtPtCbSq5DhWUOnAVMTSvX1oDbCR%0AIOeKL09K1aetaSA42ZBHWmdk0Z4qmWp5FwEqC1vSTwvIoV5JlKiudo5n36UNY37moW/drOU5Vmt6%0A1ci0s0uoTxzmluNj5T/Uo/bJza6kBU7Rj0qrpc5icSR7%2BX40w129VduqWRx%2BXFJmTK1FQg/H8a2Y%0Ao0qPNc2f7Ohgp9zbtKgfI/D2PrT/AEZKjZErMknB/SqwgBaSkAAAcDrVm0dwFhKXOR0TT6MeKcmx%0AioJWFIUZSR9ff9KSsOr0/UiFEJSowB/WnqkJWhJ2gnkR19xQepMIvbYlASHE8E9aW3R0VDVkt65O%0AnqWniZwOKMsVhVkkpUZInOZ9/lNV9q8CrFds8BKePhmmlncsotUISqFDG4e/c1LsbEOcA7pIJST5%0AioVlISpUgk9Ofc1Gl5JIAUc4ifX39a51J9LTYCQZPPmBQQxg5JW7uCjPmeaU37y%2B8PdkhCeec1j9%0A0srQlA%2B8ADmpC0Ps5bEFRHJ86ujHll9E1o6haUqmPMDpTbT3S2SEbjJggUjsDEpUYKTGRTizdDSi%0AZgQesZ9/nRbJikFOrS7IUnxHJE/OubpO62UjqRUVyUyHJweg49/3rkKCwoHPXB5qnyaJyuJXX21w%0AUyZI%2BdRKK0zgA/DrRN8sd4o4NDJcTuM4jzpsUcHkLZvdIlSSF%2BnSteGY3ke/f1rRdQORA9%2B/nUa3%0AEEZx1pq0YmSlCcYSR6VG4lSSChcFWMVy64MlIicGDxUaTuBgAgk/OjsljHTCTp97uVJ/tWVmlpSN%0APvTyep%2BVZQsA21tSbXSLJasTBJPSqzrV2sP7tngWMKOY/vV7vm2L/sitLiAXGwFJJ5FecIuAi1Uy%0A6gLBPhKuR61XYDVvcFbgSQgISQTj8KbNPfvPWGgoHY2mEgcCkgUV7EtpSjdg%2BlMnbhFitCbfaFQA%0A4CZk0GQ7tbxLDl20P5yAZHNBPqcDqEJBPVP%2BKl1WH%2B6eaUFE8x0PNQfanA4JgKSPve/lUuyBNs%2Bb%0AZpShu7wiIHMURboLemOM7SlbhmOvvNa0FgMb9RuUksiYBiFHzoRV8oX5uUZbnwg5j0NRMJyhxZT3%0ALn30A4mpLVt5wrSkgY8R6fCorxO17vRKSsyfT0qfT1HvFKM5HFEKAXFltRTuCjMfGp0Onu5MRyVE%0Ae/Kl1yrc%2B4THPSpLUlYWCQY4B61ZMtbZ28pO3BGZ9/nXFn99QwfxrHWiETEkdfT3NbthClKJgRg0%0AbDFfQYSYE9OlYU%2BMwDPEVvgBRkDjjiojPHCaXI1QVI0Uyeh68%2B/YqS2SFLHWM5/WoicHHTzqS3VK%0AhEKJxQLJsNtAe6mZnqaDUgqW8pR8UZHMUcxIbWoQckgxzS5ayhxcSJA%2BlVascpHqHYoj/T6HHBtg%0Axk5rq6Qp19coEDr51VOxj%2BoXG63tkEsJHjIHFObrVXWAEuMrwY/qJrPkOxxMirYzbtpA4USfxqR9%0AJQg92kEEQRSEa6sEJCDHX5%2BVcO606tG3ZyefKsrTs6PeP2OdHaKGFnkk8npU9y2NmBAT0qDTysWT%0Aap3FeZPSprlcM/dnyJ6VEMR1YpDk7sFOOld32bVQiB1jmoNPVsCt4JniTxXd590YiZkD4UfQ0L9I%0AAC4xHmPL3%2BVWO1JSyoyCQOtVrTzDoKoUOccfWrHboKmFJnHTNSiJtFYvHF3F2hSFEZ6YmrFpGmot%0ASHi8VL4CSPzpW5ZOpvELCJBUIqypY2LMcYkjpVLQYq2a1NsLtHUGM9TxS7Q7dSUOKCwIEGKZak3N%0AktOATSnRXtnfISobo8UdaiZopIXNNk6o6MkKTJIorT1uuIdCk7AMZHND2ziVa04N4Mp5ng0e6SLR%0A0oTKE8%2BVWWhLlYl1cpV3ZCSQkwSBTzs0xuC0hJCYwquNIDbzaUlKVNnORzVhYZQ2gRj49KPZUCOO%0A2D2WmIs3HVNknvOcUPrdvv024bMkgHFNogSJHQUDdFQbeESCIx1qqlsZkgup4xejaST%2BP4/h%2BXxo%0AJJKNsGCeT1p1rluQ6uIySPDkfCaWtWxdcIIx61vxu0eS5kKbRPpySpXGOnv3zTvTgQFKAMClCW12%0AwBbIgH%2BY9KZ2B8ZHCSJz1pmzPg0x01KmtoAk4Pl79%2BdClzY6lIghWCfP/NSNkpWU8TiPSubtJUQo%0ADE9KW0zrxehTqzASuUSVK68CprVh1NsHcBMcqMVNqAD3dBUAj3%2BNTBsIZ2qIUkZANRC5eg4egjwZ%0A6RUWovb1gLkRJ9zRKHUA5QJ6Hj3/AHoK5Wlx4JiEnqffuaKBKTSo3aNSoqWmY45z7ipuVEmuzCRk%0AQSKik7sZ3cf2%2Bn5%2BlXqhb2dKb2LC09R1ohlQ85nOelau82WB4k9PPNcNAFCVxBI9/lVXVl4pIOCd%0AyNsfdJ%2BWff1rGlAk4G2Dxz8qiQVHaAYBgAxipCiFBXCfxj3ihWxr2hLesJUtalCST7/OgCwUrG3M%0AefWmuqtpcWCnkdOI9KUrDrSsmc4A602KOPyls5W2d0mfnUJQQcwPWiFPblQoBQ6E1gUlySRBmrnP%0AaIkwExGOPh7/AFrkJ2uCKJDbZaB/m%2BNQtjxQrjpUsqxlpY26fegjzP4Vlb00RYXuAIB%2BWKyiypYb%0AJbaE2gdkhYCRHnVH7RsG11Z1k/7pE9a9A0%2B0Qtm1dWSrYAQkVWNYtzqd3fXhG5DYIGKqyCbSWkts%0Aqu3Qe7RhM9PX3/Wlyld444okgkyPT3%2BtOm0Nudm8qI8RJ9aWb2gkbFEiPL35GggBenAOWDqAkynn%0AI5oLaXVgGTPhny6U3tVtMae8U7gXOFRUBaFsGFKjcogn4VCBeqA2dizYLJiNwMRupKtJQd5nA6mr%0Af2i1Ft4MOrShSQmBVXaeLryxtEqM/d4movAhDaQuzbWuR5VuzaCXFnCU5x5e/wBakW/vLaQQfwqQ%0AqLLTypkKHQTFFMhWnj/GXHn0omyQC2sx6RQ6wQs9TPP60VbAloZIExVgx2xmm1C7ZCwBJ9Y9/wBq%0AGcYSg5BgiRP4TTO2EW6RGOKx1G4efpHNLczbCCaFigkIUnIIOJ5%2BPvzrhyNpjEjrRbzY71eYSR0j%0AmhV4E9Dx0qJ2WcepCqInIJ5/D39a2yQVQoT55/CtLyshJUPWK2zyDMdcdPhRAnsZMQWz1B%2BGaXXA%0A3uEDiMyaaWiSEGQRHPpS24kvrCVYBOAKpQ3ui29h9Tt9NtLhqYcdM7jiKfC7t3ojK5mefcV5kw6W%0AHQtJkGmlhqSmXk93PPn5UucLNfHzxWmXp20ZKipSUkqHIAkUp1thtHcJQ0AsnIAisttbQ6CHZSpP%0AX0rbTqdS1BtAVhImYmPeKQ00dSEoS8LA2lCWUhJhR46CuHCCmIkc8%2B/WujMEGYPlW3FYgzzzHNLl%0AI343SImsFJGRHlUl4gb0LBI9a6aAKkgKJV8Klu4btW1JAOc%2BlAs5NCK0IbuJkxOPP4e/OrRaAr3b%0ApyIk1WnoafSYIzirLYrlkK8QBHQcVVvRbHL7ClJSEpBTuPkeK6bWdxnfE4J6YrSFeEcyK3EumeIE%0AYpRoJXzvtnATHhqq2CttypCAQoSMHj4Val7i0rnjFVJIVb6gk7pJOcZq0XsrkejltsnXkIA/iQd3%0AWntsq3ftX2ShSnEmM4n50pej/UjCkeQ6ZiafXLifEEgyfKmf9M8dsh05gMhKkyB5mmqVDaAZnyoN%0AEhKQsGelTq4KSn7wz86W2jVF0bU4Z8Jgx1FRPA7iohUGphIKQQT61I6mW8cjM1Us1aPNtbZ/4p0H%0AdKVSZzSpQEjaJB6edWbtWnbdh3dziIqvPAkSAcYEDit2KR57mY1dguoJ3pSN0nz/ADojSFArQomc%0AZmobuS2nAJJzPSptOlSgkgx0PnWk5fj0HoAQ6Cd2345qd0BKefWffvNacKk5mdvU1y3uJATwYGeh%0A6VRtm2D0B6j/AA1tEZkz8KYrd326Q3JIgH39KX3k/a0MqTxz1iiXwpkhKfCAAKiLaI3mAlorURMY%0AxStoBV2nYc46%2B/Zo%2B%2BfcVbqSuCBwOlDaRl4qOY4nrUopKfwgm7kKxggVpgBbhASQU1u4JWuQcnit%0AM%2BBJgxFWVlE7NkStaSd3SBUFqCkqQvMGAfOpWVhS1HIk/GuLsdxcJkHaoc%2BXyqbA2GFQ2gpJPoa0%0AjcrGfT%2BtQonu1EEkn8KJaJ8JGSOYoOw9yBQCCncnHHT3/mp1ssOpE4UPLrUL8lSVScZ/vWypxs/f%0ASQQIjpVkzn8i/kjuLFpSlEeU0I/YHhBHMD40xDgkzMxzW%2B%2BKQBGJx%2BtNic1iA2akjjPU%2BdRKaCFD%0AbKSPwqw70Ok94Akz0FQP2qHFSkzJ8uanUBBYQNOvCBzJ/Csohpko0672TkH8qyrUA1/qixaZRaJK%0AvD4VK2nJqZnXtBasHLEpV/EMrV3Z9ZrKyq0AUJ1fRmwWe73MHn%2BH0ioUX%2BhIUSGSY4BRWVlSiEjW%0Ap6IRDjRKRwNnNTu63olwiHGSdv3QUYBrKypRCFnWdHCFJcZkEQAUcVn740YN7UsgGZnu/wC1ZWUO%0AqIbTq2iJg9xmeiKmf1zRV26h3JKlc%2BDmsrKiSJYqN7o55Zx/40Q1qejpaCe7ODP3KysqwbD2tc0V%0AKQA0QI/2VpeuaN/K3H/wNZWUtxRojkklojXrGjEGWiZ/7TQzmp6MSr%2BDn/wrKyrJJFZ5ZHB1HRow%0A1n/xrtGp6MkyGiCOPB1rKyrC/wAkgpnWtGQ3AbM%2Bew0K5qejKcUe6/8AwNZWUKLvLKjj946NM9z/%0AAPhR2i9odG0u67/7Il5XkpOPyrKypRT8kifUNf7P3alPC3Uh9RkgI8NEdnu0OjWTqne6JcAx4Cay%0AsqrgjRi5OReMantfoyjOxUc5QTW1dr9H6tqwP9hrKykvFH6N8ebmS9MHa/Rwonuz5TsNSO9stHVb%0AJbLZImfuHPnWVlBY4llzs32Bv9qtHJCthkHMoPvpTGz7a6ShpI2KIHB2GsrKjxR%2Bgrm5vsJHbjRo%0AEtqH/wADXX%2BudF47pUf%2BBrKylvDAcv5LkL/IkHb7RwmAhX/%2BDSfUO2Gju3QcKFFRz9w1lZVo4YIp%0AP%2BQzy9ZG72u0dy%2BYdDZO0ZGw/WmA7daMp0koUV%2BZbNZWUXiiVXOzfYS3260ZIA7s4/8A6zXX%2BvdG%0AJy2rHkg1lZVXhh9DF/I51/kcq7e6RIOxUf8AioV25290YjCFR6oNZWUFhh9Bf8jyH/kJta7W6NdN%0AJltUjpsNJj2h0b/%2BI/HYayspsccUY8vKyS9ZG5ruiLJloj4IOK7te0GitPJPdGB/2GsrKbRm/NOw%0AlfafR1FRDfJn7hrpvtPowMd2YP8A2H%2BlZWVKQxcjJ5YO72k0dy7S4WzyOEGjHu1GiLIKmySOvdms%0ArKKigf1OR/IBddotGcBQGcDrs/tWWXaDRmELBbJn/tP9Kysoor/UTfydr7RaNyW1T/4f2rFdotG7%0Asp7sknk7TWVlSg/nmnVnFtr%2BjIMlsnpBQfrXd72j0d5KSGzI4Gw4/CsrKiQHnnXpyjtHoyWkjuyI%0AxAQa7/1Ho%2BR3ZA/8DWVlCiLPP7NudpNGXILZk%2BaDQznaDSDkIM/%2BBzWVlGkKnklL0jX2g0kiQkz/%0AAOBrhPaXT0mQj/8ACsrKNGa2do7R6TulTRE/9s1L/qPSgf8Alk//AANZWUQEN12jsFMONs7kbwR9%0A01lZWUbIf//Z)"
   ]
  },
  {
   "cell_type": "markdown",
   "metadata": {},
   "source": [
    "### Epilogue\n",
    "\n",
    "You can close this tab by clicking the little <b>X</b> mark on the tab bar. Instead of an <b>X</b> there might be a circle present, it means that there are some unsaved changes."
   ]
  }
 ],
 "metadata": {
  "kernelspec": {
   "display_name": "Python 3",
   "language": "python",
   "name": "python3"
  },
  "language_info": {
   "codemirror_mode": {
    "name": "ipython",
    "version": 3
   },
   "file_extension": ".py",
   "mimetype": "text/x-python",
   "name": "python",
   "nbconvert_exporter": "python",
   "pygments_lexer": "ipython3",
   "version": "3.8.3"
  }
 },
 "nbformat": 4,
 "nbformat_minor": 4
}
